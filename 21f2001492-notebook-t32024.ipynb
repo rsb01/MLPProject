{
 "cells": [
  {
   "cell_type": "markdown",
   "id": "ca044619",
   "metadata": {
    "papermill": {
     "duration": 0.009945,
     "end_time": "2024-11-03T07:09:47.084324",
     "exception": false,
     "start_time": "2024-11-03T07:09:47.074379",
     "status": "completed"
    },
    "tags": []
   },
   "source": [
    "## **Libraries**"
   ]
  },
  {
   "cell_type": "code",
   "execution_count": 1,
   "id": "40eb09d9",
   "metadata": {
    "execution": {
     "iopub.execute_input": "2024-11-03T07:09:47.104240Z",
     "iopub.status.busy": "2024-11-03T07:09:47.103797Z",
     "iopub.status.idle": "2024-11-03T07:09:52.794279Z",
     "shell.execute_reply": "2024-11-03T07:09:52.793043Z"
    },
    "papermill": {
     "duration": 5.703702,
     "end_time": "2024-11-03T07:09:52.797352",
     "exception": false,
     "start_time": "2024-11-03T07:09:47.093650",
     "status": "completed"
    },
    "tags": []
   },
   "outputs": [],
   "source": [
    "import pandas as pd\n",
    "import numpy as np\n",
    "import seaborn as sns\n",
    "import matplotlib.pyplot as plt\n",
    "from scipy.stats import pearsonr\n",
    "from scipy.stats import chi2_contingency\n",
    "\n",
    "#preprocessing libraries \n",
    "\n",
    "from sklearn.model_selection import train_test_split, RandomizedSearchCV, StratifiedKFold\n",
    "from sklearn.metrics import f1_score\n",
    "from sklearn.ensemble import RandomForestClassifier\n",
    "from sklearn.linear_model import LogisticRegression\n",
    "from sklearn.naive_bayes import GaussianNB\n",
    "from sklearn.preprocessing import StandardScaler\n",
    "from imblearn.combine import SMOTEENN\n",
    "from sklearn.decomposition import PCA\n",
    "from sklearn.feature_selection import SelectFromModel\n",
    "from scipy.stats import randint as sp_randint, uniform as sp_uniform\n",
    "import lightgbm as lgb"
   ]
  },
  {
   "cell_type": "markdown",
   "id": "95007003",
   "metadata": {
    "papermill": {
     "duration": 0.008778,
     "end_time": "2024-11-03T07:09:52.815491",
     "exception": false,
     "start_time": "2024-11-03T07:09:52.806713",
     "status": "completed"
    },
    "tags": []
   },
   "source": [
    "## **Dataset Loading**"
   ]
  },
  {
   "cell_type": "code",
   "execution_count": 2,
   "id": "a5fba32a",
   "metadata": {
    "execution": {
     "iopub.execute_input": "2024-11-03T07:09:52.836212Z",
     "iopub.status.busy": "2024-11-03T07:09:52.835474Z",
     "iopub.status.idle": "2024-11-03T07:09:53.056871Z",
     "shell.execute_reply": "2024-11-03T07:09:53.055322Z"
    },
    "papermill": {
     "duration": 0.235386,
     "end_time": "2024-11-03T07:09:53.060111",
     "exception": false,
     "start_time": "2024-11-03T07:09:52.824725",
     "status": "completed"
    },
    "tags": []
   },
   "outputs": [],
   "source": [
    "train_df=pd.read_csv(\"/kaggle/input/predict-the-success-of-bank-telemarketing/train.csv\")\n",
    "test_df=pd.read_csv(\"/kaggle/input/predict-the-success-of-bank-telemarketing/test.csv\")\n",
    "submission_df=pd.read_csv('/kaggle/input/predict-the-success-of-bank-telemarketing/sample_submission.csv')\n",
    "\n",
    "x=train_df.copy()"
   ]
  },
  {
   "cell_type": "markdown",
   "id": "9ce0d94c",
   "metadata": {
    "papermill": {
     "duration": 0.009239,
     "end_time": "2024-11-03T07:09:53.078217",
     "exception": false,
     "start_time": "2024-11-03T07:09:53.068978",
     "status": "completed"
    },
    "tags": []
   },
   "source": [
    "## **Exploratory Data Analysis**"
   ]
  },
  {
   "cell_type": "markdown",
   "id": "1a4b91f2",
   "metadata": {
    "papermill": {
     "duration": 0.008947,
     "end_time": "2024-11-03T07:09:53.096657",
     "exception": false,
     "start_time": "2024-11-03T07:09:53.087710",
     "status": "completed"
    },
    "tags": []
   },
   "source": [
    "### **Examining the Data**"
   ]
  },
  {
   "cell_type": "code",
   "execution_count": 3,
   "id": "7c506557",
   "metadata": {
    "execution": {
     "iopub.execute_input": "2024-11-03T07:09:53.116161Z",
     "iopub.status.busy": "2024-11-03T07:09:53.115769Z",
     "iopub.status.idle": "2024-11-03T07:09:53.266048Z",
     "shell.execute_reply": "2024-11-03T07:09:53.264600Z"
    },
    "papermill": {
     "duration": 0.163634,
     "end_time": "2024-11-03T07:09:53.268999",
     "exception": false,
     "start_time": "2024-11-03T07:09:53.105365",
     "status": "completed"
    },
    "tags": []
   },
   "outputs": [
    {
     "name": "stdout",
     "output_type": "stream",
     "text": [
      "(39211, 16)\n",
      "No of dupliates to remove:  0\n",
      "(39211, 16)\n"
     ]
    }
   ],
   "source": [
    "print(x.shape)\n",
    "\n",
    "print(\"No of dupliates to remove: \",x.duplicated().sum())\n",
    "x.drop_duplicates(inplace=True)\n",
    "x.reset_index(drop=True, inplace=True)\n",
    "print(x.shape)"
   ]
  },
  {
   "cell_type": "code",
   "execution_count": 4,
   "id": "6b3b9da8",
   "metadata": {
    "execution": {
     "iopub.execute_input": "2024-11-03T07:09:53.289058Z",
     "iopub.status.busy": "2024-11-03T07:09:53.288635Z",
     "iopub.status.idle": "2024-11-03T07:09:53.343036Z",
     "shell.execute_reply": "2024-11-03T07:09:53.341637Z"
    },
    "papermill": {
     "duration": 0.067762,
     "end_time": "2024-11-03T07:09:53.345816",
     "exception": false,
     "start_time": "2024-11-03T07:09:53.278054",
     "status": "completed"
    },
    "tags": []
   },
   "outputs": [
    {
     "data": {
      "text/html": [
       "<div>\n",
       "<style scoped>\n",
       "    .dataframe tbody tr th:only-of-type {\n",
       "        vertical-align: middle;\n",
       "    }\n",
       "\n",
       "    .dataframe tbody tr th {\n",
       "        vertical-align: top;\n",
       "    }\n",
       "\n",
       "    .dataframe thead th {\n",
       "        text-align: right;\n",
       "    }\n",
       "</style>\n",
       "<table border=\"1\" class=\"dataframe\">\n",
       "  <thead>\n",
       "    <tr style=\"text-align: right;\">\n",
       "      <th></th>\n",
       "      <th>age</th>\n",
       "      <th>balance</th>\n",
       "      <th>duration</th>\n",
       "      <th>campaign</th>\n",
       "      <th>pdays</th>\n",
       "      <th>previous</th>\n",
       "    </tr>\n",
       "  </thead>\n",
       "  <tbody>\n",
       "    <tr>\n",
       "      <th>count</th>\n",
       "      <td>39211.000000</td>\n",
       "      <td>39211.000000</td>\n",
       "      <td>39211.000000</td>\n",
       "      <td>39211.000000</td>\n",
       "      <td>39211.000000</td>\n",
       "      <td>39211.000000</td>\n",
       "    </tr>\n",
       "    <tr>\n",
       "      <th>mean</th>\n",
       "      <td>42.120247</td>\n",
       "      <td>5441.781719</td>\n",
       "      <td>439.062789</td>\n",
       "      <td>5.108770</td>\n",
       "      <td>72.256051</td>\n",
       "      <td>11.826171</td>\n",
       "    </tr>\n",
       "    <tr>\n",
       "      <th>std</th>\n",
       "      <td>12.709352</td>\n",
       "      <td>16365.292065</td>\n",
       "      <td>769.096291</td>\n",
       "      <td>9.890153</td>\n",
       "      <td>160.942593</td>\n",
       "      <td>44.140259</td>\n",
       "    </tr>\n",
       "    <tr>\n",
       "      <th>min</th>\n",
       "      <td>18.000000</td>\n",
       "      <td>-8019.000000</td>\n",
       "      <td>0.000000</td>\n",
       "      <td>1.000000</td>\n",
       "      <td>-1.000000</td>\n",
       "      <td>0.000000</td>\n",
       "    </tr>\n",
       "    <tr>\n",
       "      <th>25%</th>\n",
       "      <td>33.000000</td>\n",
       "      <td>98.000000</td>\n",
       "      <td>109.000000</td>\n",
       "      <td>1.000000</td>\n",
       "      <td>-1.000000</td>\n",
       "      <td>0.000000</td>\n",
       "    </tr>\n",
       "    <tr>\n",
       "      <th>50%</th>\n",
       "      <td>40.000000</td>\n",
       "      <td>549.000000</td>\n",
       "      <td>197.000000</td>\n",
       "      <td>2.000000</td>\n",
       "      <td>-1.000000</td>\n",
       "      <td>0.000000</td>\n",
       "    </tr>\n",
       "    <tr>\n",
       "      <th>75%</th>\n",
       "      <td>50.000000</td>\n",
       "      <td>2030.000000</td>\n",
       "      <td>380.000000</td>\n",
       "      <td>4.000000</td>\n",
       "      <td>-1.000000</td>\n",
       "      <td>0.000000</td>\n",
       "    </tr>\n",
       "    <tr>\n",
       "      <th>max</th>\n",
       "      <td>95.000000</td>\n",
       "      <td>102127.000000</td>\n",
       "      <td>4918.000000</td>\n",
       "      <td>63.000000</td>\n",
       "      <td>871.000000</td>\n",
       "      <td>275.000000</td>\n",
       "    </tr>\n",
       "  </tbody>\n",
       "</table>\n",
       "</div>"
      ],
      "text/plain": [
       "                age        balance      duration      campaign         pdays  \\\n",
       "count  39211.000000   39211.000000  39211.000000  39211.000000  39211.000000   \n",
       "mean      42.120247    5441.781719    439.062789      5.108770     72.256051   \n",
       "std       12.709352   16365.292065    769.096291      9.890153    160.942593   \n",
       "min       18.000000   -8019.000000      0.000000      1.000000     -1.000000   \n",
       "25%       33.000000      98.000000    109.000000      1.000000     -1.000000   \n",
       "50%       40.000000     549.000000    197.000000      2.000000     -1.000000   \n",
       "75%       50.000000    2030.000000    380.000000      4.000000     -1.000000   \n",
       "max       95.000000  102127.000000   4918.000000     63.000000    871.000000   \n",
       "\n",
       "           previous  \n",
       "count  39211.000000  \n",
       "mean      11.826171  \n",
       "std       44.140259  \n",
       "min        0.000000  \n",
       "25%        0.000000  \n",
       "50%        0.000000  \n",
       "75%        0.000000  \n",
       "max      275.000000  "
      ]
     },
     "execution_count": 4,
     "metadata": {},
     "output_type": "execute_result"
    }
   ],
   "source": [
    "x.describe()"
   ]
  },
  {
   "cell_type": "code",
   "execution_count": 5,
   "id": "53512043",
   "metadata": {
    "execution": {
     "iopub.execute_input": "2024-11-03T07:09:53.366608Z",
     "iopub.status.busy": "2024-11-03T07:09:53.366137Z",
     "iopub.status.idle": "2024-11-03T07:09:53.415417Z",
     "shell.execute_reply": "2024-11-03T07:09:53.414241Z"
    },
    "papermill": {
     "duration": 0.062996,
     "end_time": "2024-11-03T07:09:53.418102",
     "exception": false,
     "start_time": "2024-11-03T07:09:53.355106",
     "status": "completed"
    },
    "tags": []
   },
   "outputs": [
    {
     "data": {
      "text/plain": [
       "last contact date        0\n",
       "age                      0\n",
       "job                    229\n",
       "marital                  0\n",
       "education             1467\n",
       "default                  0\n",
       "balance                  0\n",
       "housing                  0\n",
       "loan                     0\n",
       "contact              10336\n",
       "duration                 0\n",
       "campaign                 0\n",
       "pdays                    0\n",
       "previous                 0\n",
       "poutcome             29451\n",
       "target                   0\n",
       "dtype: int64"
      ]
     },
     "execution_count": 5,
     "metadata": {},
     "output_type": "execute_result"
    }
   ],
   "source": [
    "x.isna().sum() #job, eduation, contact, poutcome has null values"
   ]
  },
  {
   "cell_type": "markdown",
   "id": "f702250a",
   "metadata": {
    "papermill": {
     "duration": 0.009145,
     "end_time": "2024-11-03T07:09:53.437193",
     "exception": false,
     "start_time": "2024-11-03T07:09:53.428048",
     "status": "completed"
    },
    "tags": []
   },
   "source": [
    "### **Visualization**"
   ]
  },
  {
   "cell_type": "code",
   "execution_count": 6,
   "id": "3858474a",
   "metadata": {
    "execution": {
     "iopub.execute_input": "2024-11-03T07:09:53.458691Z",
     "iopub.status.busy": "2024-11-03T07:09:53.458222Z",
     "iopub.status.idle": "2024-11-03T07:09:54.951938Z",
     "shell.execute_reply": "2024-11-03T07:09:54.950641Z"
    },
    "papermill": {
     "duration": 1.508001,
     "end_time": "2024-11-03T07:09:54.954513",
     "exception": false,
     "start_time": "2024-11-03T07:09:53.446512",
     "status": "completed"
    },
    "tags": []
   },
   "outputs": [
    {
     "data": {
      "image/png": "[encoded data removed]",
      "text/plain": [
       "<Figure size 1600x1000 with 6 Axes>"
      ]
     },
     "metadata": {},
     "output_type": "display_data"
    }
   ],
   "source": [
    "#Visualize distributions\n",
    "\n",
    "x.hist(bins=20, edgecolor='black',figsize=(16,10))\n",
    "plt.suptitle('Distributions of Numerical Features')\n",
    "\n",
    "plt.show()"
   ]
  },
  {
   "cell_type": "code",
   "execution_count": 7,
   "id": "afa6ad52",
   "metadata": {
    "execution": {
     "iopub.execute_input": "2024-11-03T07:09:54.977903Z",
     "iopub.status.busy": "2024-11-03T07:09:54.977472Z",
     "iopub.status.idle": "2024-11-03T07:09:55.003727Z",
     "shell.execute_reply": "2024-11-03T07:09:55.002334Z"
    },
    "papermill": {
     "duration": 0.041734,
     "end_time": "2024-11-03T07:09:55.006832",
     "exception": false,
     "start_time": "2024-11-03T07:09:54.965098",
     "status": "completed"
    },
    "tags": []
   },
   "outputs": [
    {
     "name": "stdout",
     "output_type": "stream",
     "text": [
      "Correlation Matrix:\n",
      "               age   balance  duration  campaign     pdays  previous\n",
      "age       1.000000  0.289150  0.255573  0.269439  0.199507  0.277487\n",
      "balance   0.289150  1.000000  0.669737  0.674339  0.562097  0.716816\n",
      "duration  0.255573  0.669737  1.000000  0.630944  0.527020  0.683951\n",
      "campaign  0.269439  0.674339  0.630944  1.000000  0.519469  0.689211\n",
      "pdays     0.199507  0.562097  0.527020  0.519469  1.000000  0.586175\n",
      "previous  0.277487  0.716816  0.683951  0.689211  0.586175  1.000000\n"
     ]
    }
   ],
   "source": [
    "#Correlation matrix\n",
    "\n",
    "numerical_features = ['age', 'balance', 'duration', 'campaign', 'pdays', 'previous']\n",
    "correlation_matrix = x[numerical_features].corr()\n",
    "print(\"Correlation Matrix:\")\n",
    "\n",
    "print(correlation_matrix)"
   ]
  },
  {
   "cell_type": "code",
   "execution_count": 8,
   "id": "09b096c7",
   "metadata": {
    "execution": {
     "iopub.execute_input": "2024-11-03T07:09:55.031468Z",
     "iopub.status.busy": "2024-11-03T07:09:55.031003Z",
     "iopub.status.idle": "2024-11-03T07:09:55.546966Z",
     "shell.execute_reply": "2024-11-03T07:09:55.545664Z"
    },
    "papermill": {
     "duration": 0.532155,
     "end_time": "2024-11-03T07:09:55.549950",
     "exception": false,
     "start_time": "2024-11-03T07:09:55.017795",
     "status": "completed"
    },
    "tags": []
   },
   "outputs": [
    {
     "data": {
      "image/png": "[encoded data removed]",
      "text/plain": [
       "<Figure size 1200x800 with 2 Axes>"
      ]
     },
     "metadata": {},
     "output_type": "display_data"
    }
   ],
   "source": [
    "# Heatmap for better visualization\n",
    "\n",
    "plt.figure(figsize=(12, 8))\n",
    "sns.heatmap(correlation_matrix, annot=True, cmap='coolwarm', fmt='.2f')\n",
    "plt.title('Correlation Heatmap')\n",
    "\n",
    "plt.show()"
   ]
  },
  {
   "cell_type": "code",
   "execution_count": 9,
   "id": "8fe84b65",
   "metadata": {
    "execution": {
     "iopub.execute_input": "2024-11-03T07:09:55.575711Z",
     "iopub.status.busy": "2024-11-03T07:09:55.575200Z",
     "iopub.status.idle": "2024-11-03T07:09:55.586626Z",
     "shell.execute_reply": "2024-11-03T07:09:55.585327Z"
    },
    "papermill": {
     "duration": 0.027241,
     "end_time": "2024-11-03T07:09:55.589210",
     "exception": false,
     "start_time": "2024-11-03T07:09:55.561969",
     "status": "completed"
    },
    "tags": []
   },
   "outputs": [
    {
     "name": "stdout",
     "output_type": "stream",
     "text": [
      "Pearson correlation between Age and Balance: 0.2891499643200483\n"
     ]
    }
   ],
   "source": [
    "# Pearson correlation between age and balance\n",
    "corr, _ = pearsonr(x['age'], x['balance'])\n",
    "\n",
    "print(f'Pearson correlation between Age and Balance: {corr}')"
   ]
  },
  {
   "cell_type": "code",
   "execution_count": 10,
   "id": "fc3c7b64",
   "metadata": {
    "execution": {
     "iopub.execute_input": "2024-11-03T07:09:55.617383Z",
     "iopub.status.busy": "2024-11-03T07:09:55.616900Z",
     "iopub.status.idle": "2024-11-03T07:09:55.659224Z",
     "shell.execute_reply": "2024-11-03T07:09:55.657780Z"
    },
    "papermill": {
     "duration": 0.060325,
     "end_time": "2024-11-03T07:09:55.662030",
     "exception": false,
     "start_time": "2024-11-03T07:09:55.601705",
     "status": "completed"
    },
    "tags": []
   },
   "outputs": [
    {
     "name": "stdout",
     "output_type": "stream",
     "text": [
      "Chi-square test result\n",
      "Chi2 Statistic: 256.26962401452437, p-value: 2.2478027879533247e-56\n"
     ]
    }
   ],
   "source": [
    "# Create a contingency table between two categorical variables: education and default\n",
    "contingency_table = pd.crosstab(x['education'], x['default'])\n",
    "\n",
    "# Perform chi-square test\n",
    "chi2, p, dof, expected = chi2_contingency(contingency_table)\n",
    "\n",
    "print(f'Chi-square test result\\nChi2 Statistic: {chi2}, p-value: {p}')"
   ]
  },
  {
   "cell_type": "markdown",
   "id": "5ff08a56",
   "metadata": {
    "papermill": {
     "duration": 0.012288,
     "end_time": "2024-11-03T07:09:55.686375",
     "exception": false,
     "start_time": "2024-11-03T07:09:55.674087",
     "status": "completed"
    },
    "tags": []
   },
   "source": [
    "## **Data Preprocessing**"
   ]
  },
  {
   "cell_type": "code",
   "execution_count": 11,
   "id": "89c84a9a",
   "metadata": {
    "execution": {
     "iopub.execute_input": "2024-11-03T07:09:55.713314Z",
     "iopub.status.busy": "2024-11-03T07:09:55.712144Z",
     "iopub.status.idle": "2024-11-03T07:10:29.243000Z",
     "shell.execute_reply": "2024-11-03T07:10:29.241829Z"
    },
    "papermill": {
     "duration": 33.547267,
     "end_time": "2024-11-03T07:10:29.245896",
     "exception": false,
     "start_time": "2024-11-03T07:09:55.698629",
     "status": "completed"
    },
    "tags": []
   },
   "outputs": [],
   "source": [
    "# Convert 'last contact date' to datetime and extract features\n",
    "train_df['last contact date'] = pd.to_datetime(train_df['last contact date'])\n",
    "train_df['contact_year'] = train_df['last contact date'].dt.year\n",
    "train_df['contact_month'] = train_df['last contact date'].dt.month\n",
    "train_df['contact_day'] = train_df['last contact date'].dt.day\n",
    "train_df['contact_dayofweek'] = train_df['last contact date'].dt.dayofweek\n",
    "\n",
    "test_df['last contact date'] = pd.to_datetime(test_df['last contact date'])\n",
    "test_df['contact_year'] = test_df['last contact date'].dt.year\n",
    "test_df['contact_month'] = test_df['last contact date'].dt.month\n",
    "test_df['contact_day'] = test_df['last contact date'].dt.day\n",
    "test_df['contact_dayofweek'] = test_df['last contact date'].dt.dayofweek\n",
    "\n",
    "# Drop the original 'last contact date' column\n",
    "train_df.drop('last contact date', axis=1, inplace=True)\n",
    "test_df.drop('last contact date', axis=1, inplace=True)\n",
    "\n",
    "# Handle missing values in categorical columns\n",
    "for col in ['job', 'education', 'contact', 'poutcome']:\n",
    "    train_df[col] = train_df[col].fillna('Unknown')\n",
    "    test_df[col] = test_df[col].fillna('Unknown')\n",
    "\n",
    "# Encode categorical variables using one-hot encoding\n",
    "train_df_encoded = pd.get_dummies(train_df, columns=['job', 'marital', 'education', 'default', 'housing', 'loan', 'contact', 'poutcome'])\n",
    "test_df_encoded = pd.get_dummies(test_df, columns=['job', 'marital', 'education', 'default', 'housing', 'loan', 'contact', 'poutcome'])\n",
    "\n",
    "# Align test_df_encoded to train_df_encoded\n",
    "test_df_encoded = test_df_encoded.reindex(columns=train_df_encoded.columns, fill_value=0)\n",
    "\n",
    "# Separate features and target variable\n",
    "X = train_df_encoded.drop('target', axis=1)\n",
    "y = train_df_encoded['target'].apply(lambda x: 1 if x == 'yes' else 0)\n",
    "X_test_final = test_df_encoded.drop('target', axis=1)\n",
    "\n",
    "# Scale the numerical features\n",
    "scaler = StandardScaler()\n",
    "X_scaled = scaler.fit_transform(X)\n",
    "X_test_scaled = scaler.transform(X_test_final)\n",
    "\n",
    "# Address class imbalance using SMOTE-ENN\n",
    "smote_enn = SMOTEENN(random_state=42)\n",
    "X_resampled, y_resampled = smote_enn.fit_resample(X_scaled, y)\n",
    "\n",
    "# Split the data into training and validation sets\n",
    "X_train, X_valid, y_train, y_valid = train_test_split(X_resampled, y_resampled, test_size=0.2, random_state=42)\n",
    "\n",
    "\n"
   ]
  },
  {
   "cell_type": "markdown",
   "id": "fcd5d0b6",
   "metadata": {
    "papermill": {
     "duration": 0.011679,
     "end_time": "2024-11-03T07:10:29.269852",
     "exception": false,
     "start_time": "2024-11-03T07:10:29.258173",
     "status": "completed"
    },
    "tags": []
   },
   "source": [
    "## **Dimensionality Reduction**"
   ]
  },
  {
   "cell_type": "code",
   "execution_count": 12,
   "id": "03225c4c",
   "metadata": {
    "execution": {
     "iopub.execute_input": "2024-11-03T07:10:29.296659Z",
     "iopub.status.busy": "2024-11-03T07:10:29.295975Z",
     "iopub.status.idle": "2024-11-03T07:10:29.453127Z",
     "shell.execute_reply": "2024-11-03T07:10:29.451871Z"
    },
    "papermill": {
     "duration": 0.175032,
     "end_time": "2024-11-03T07:10:29.457581",
     "exception": false,
     "start_time": "2024-11-03T07:10:29.282549",
     "status": "completed"
    },
    "tags": []
   },
   "outputs": [],
   "source": [
    "# Dimensionality Reduction using PCA\n",
    "pca = PCA(n_components=0.95)  # Retain 95% of variance\n",
    "X_train_pca = pca.fit_transform(X_train)\n",
    "X_valid_pca = pca.transform(X_valid)\n",
    "X_test_pca = pca.transform(X_test_scaled)"
   ]
  },
  {
   "cell_type": "markdown",
   "id": "12ae94a2",
   "metadata": {
    "papermill": {
     "duration": 0.034073,
     "end_time": "2024-11-03T07:10:29.545757",
     "exception": false,
     "start_time": "2024-11-03T07:10:29.511684",
     "status": "completed"
    },
    "tags": []
   },
   "source": [
    "## **Feature Selection**"
   ]
  },
  {
   "cell_type": "code",
   "execution_count": 13,
   "id": "67fd1eb4",
   "metadata": {
    "execution": {
     "iopub.execute_input": "2024-11-03T07:10:29.584975Z",
     "iopub.status.busy": "2024-11-03T07:10:29.584562Z",
     "iopub.status.idle": "2024-11-03T07:10:37.083970Z",
     "shell.execute_reply": "2024-11-03T07:10:37.082708Z"
    },
    "papermill": {
     "duration": 7.516998,
     "end_time": "2024-11-03T07:10:37.086892",
     "exception": false,
     "start_time": "2024-11-03T07:10:29.569894",
     "status": "completed"
    },
    "tags": []
   },
   "outputs": [],
   "source": [
    "# Feature Selection using ExtraTreesClassifier\n",
    "from sklearn.ensemble import ExtraTreesClassifier\n",
    "\n",
    "feature_selector = SelectFromModel(ExtraTreesClassifier(n_estimators=100, random_state=42))\n",
    "X_train_selected = feature_selector.fit_transform(X_train, y_train)\n",
    "X_valid_selected = feature_selector.transform(X_valid)\n",
    "X_test_selected = feature_selector.transform(X_test_scaled)"
   ]
  },
  {
   "cell_type": "markdown",
   "id": "1142dc33",
   "metadata": {
    "papermill": {
     "duration": 0.011703,
     "end_time": "2024-11-03T07:10:37.110875",
     "exception": false,
     "start_time": "2024-11-03T07:10:37.099172",
     "status": "completed"
    },
    "tags": []
   },
   "source": [
    "## **Model 1: Random Forest**"
   ]
  },
  {
   "cell_type": "code",
   "execution_count": 14,
   "id": "c004d0a9",
   "metadata": {
    "execution": {
     "iopub.execute_input": "2024-11-03T07:10:37.138526Z",
     "iopub.status.busy": "2024-11-03T07:10:37.137961Z",
     "iopub.status.idle": "2024-11-03T07:21:56.636273Z",
     "shell.execute_reply": "2024-11-03T07:21:56.634900Z"
    },
    "papermill": {
     "duration": 679.527746,
     "end_time": "2024-11-03T07:21:56.651949",
     "exception": false,
     "start_time": "2024-11-03T07:10:37.124203",
     "status": "completed"
    },
    "tags": []
   },
   "outputs": [
    {
     "name": "stdout",
     "output_type": "stream",
     "text": [
      "Random Forest F1 Score: 0.9623641687640845\n"
     ]
    }
   ],
   "source": [
    "# Define hyperparameter distributions for Random Forest\n",
    "param_dist_rf = {\n",
    "    'n_estimators': sp_randint(100, 300),\n",
    "    'max_depth': sp_randint(10, 30),\n",
    "    'min_samples_split': sp_randint(2, 10),\n",
    "    'min_samples_leaf': sp_randint(1, 4)\n",
    "}\n",
    "\n",
    "# Initialize Random Forest model\n",
    "rf_model = RandomForestClassifier(random_state=42)\n",
    "\n",
    "# Hyperparameter tuning for Random Forest\n",
    "rf_search = RandomizedSearchCV(rf_model, param_dist_rf, n_iter=20, cv=StratifiedKFold(3), scoring='f1_macro', n_jobs=-1, random_state=42)\n",
    "rf_search.fit(X_train_selected, y_train)\n",
    "\n",
    "# Evaluate Random Forest model\n",
    "rf_best_model = rf_search.best_estimator_\n",
    "rf_preds = rf_best_model.predict(X_valid_selected)\n",
    "rf_f1 = f1_score(y_valid, rf_preds, average='macro')\n",
    "print(f\"Random Forest F1 Score: {rf_f1}\")"
   ]
  },
  {
   "cell_type": "markdown",
   "id": "f72b4a9b",
   "metadata": {
    "papermill": {
     "duration": 0.012323,
     "end_time": "2024-11-03T07:21:56.676669",
     "exception": false,
     "start_time": "2024-11-03T07:21:56.664346",
     "status": "completed"
    },
    "tags": []
   },
   "source": [
    "## **Model 2 : Logistic Regression**"
   ]
  },
  {
   "cell_type": "code",
   "execution_count": 15,
   "id": "2a55c646",
   "metadata": {
    "execution": {
     "iopub.execute_input": "2024-11-03T07:21:56.703550Z",
     "iopub.status.busy": "2024-11-03T07:21:56.703115Z",
     "iopub.status.idle": "2024-11-03T07:22:11.973533Z",
     "shell.execute_reply": "2024-11-03T07:22:11.969537Z"
    },
    "papermill": {
     "duration": 15.288507,
     "end_time": "2024-11-03T07:22:11.977842",
     "exception": false,
     "start_time": "2024-11-03T07:21:56.689335",
     "status": "completed"
    },
    "tags": []
   },
   "outputs": [
    {
     "name": "stdout",
     "output_type": "stream",
     "text": [
      "Logistic Regression F1 Score: 0.8737245070208102\n"
     ]
    }
   ],
   "source": [
    "# Define hyperparameter distributions for Logistic Regression\n",
    "param_dist_log_reg = {\n",
    "    'C': sp_uniform(0.01, 10),\n",
    "    'solver': ['liblinear', 'saga'],\n",
    "    'max_iter': sp_randint(100, 300)\n",
    "}\n",
    "\n",
    "# Initialize Logistic Regression model\n",
    "log_reg_model = LogisticRegression(random_state=42)\n",
    "\n",
    "# Hyperparameter tuning for Logistic Regression\n",
    "log_reg_search = RandomizedSearchCV(log_reg_model, param_dist_log_reg, n_iter=20, cv=StratifiedKFold(3), scoring='f1_macro', n_jobs=-1, random_state=42)\n",
    "log_reg_search.fit(X_train_selected, y_train)\n",
    "\n",
    "# Evaluate Logistic Regression model\n",
    "log_reg_best_model = log_reg_search.best_estimator_\n",
    "log_reg_preds = log_reg_best_model.predict(X_valid_selected)\n",
    "log_reg_f1 = f1_score(y_valid, log_reg_preds, average='macro')\n",
    "print(f\"Logistic Regression F1 Score: {log_reg_f1}\")"
   ]
  },
  {
   "cell_type": "markdown",
   "id": "4ea2977d",
   "metadata": {
    "papermill": {
     "duration": 0.025169,
     "end_time": "2024-11-03T07:22:12.028877",
     "exception": false,
     "start_time": "2024-11-03T07:22:12.003708",
     "status": "completed"
    },
    "tags": []
   },
   "source": [
    "## **Model 3: LightGBM**"
   ]
  },
  {
   "cell_type": "code",
   "execution_count": 16,
   "id": "5cf356e3",
   "metadata": {
    "execution": {
     "iopub.execute_input": "2024-11-03T07:22:12.080229Z",
     "iopub.status.busy": "2024-11-03T07:22:12.079809Z",
     "iopub.status.idle": "2024-11-03T07:23:43.990277Z",
     "shell.execute_reply": "2024-11-03T07:23:43.988939Z"
    },
    "papermill": {
     "duration": 91.96131,
     "end_time": "2024-11-03T07:23:44.017240",
     "exception": false,
     "start_time": "2024-11-03T07:22:12.055930",
     "status": "completed"
    },
    "tags": []
   },
   "outputs": [
    {
     "name": "stdout",
     "output_type": "stream",
     "text": [
      "[LightGBM] [Warning] Accuracy may be bad since you didn't explicitly set num_leaves OR 2^max_depth > num_leaves. (num_leaves=31).\n",
      "[LightGBM] [Warning] Accuracy may be bad since you didn't explicitly set num_leaves OR 2^max_depth > num_leaves. (num_leaves=31).\n",
      "[LightGBM] [Info] Number of positive: 16484, number of negative: 13148\n",
      "[LightGBM] [Info] Auto-choosing col-wise multi-threading, the overhead of testing was 0.010271 seconds.\n",
      "You can set `force_col_wise=true` to remove the overhead.\n",
      "[LightGBM] [Info] Total Bins 3059\n",
      "[LightGBM] [Info] Number of data points in the train set: 29632, number of used features: 14\n",
      "[LightGBM] [Info] [binary:BoostFromScore]: pavg=0.556290 -> initscore=0.226121\n",
      "[LightGBM] [Info] Start training from score 0.226121\n",
      "[LightGBM] [Warning] Accuracy may be bad since you didn't explicitly set num_leaves OR 2^max_depth > num_leaves. (num_leaves=31).\n",
      "[LightGBM] [Warning] Accuracy may be bad since you didn't explicitly set num_leaves OR 2^max_depth > num_leaves. (num_leaves=31).\n",
      "[LightGBM] [Warning] Accuracy may be bad since you didn't explicitly set num_leaves OR 2^max_depth > num_leaves. (num_leaves=31).\n",
      "[LightGBM] [Info] Number of positive: 16483, number of negative: 13149\n",
      "[LightGBM] [Info] Auto-choosing col-wise multi-threading, the overhead of testing was 0.010268 seconds.\n",
      "You can set `force_col_wise=true` to remove the overhead.\n",
      "[LightGBM] [Info] Total Bins 3037\n",
      "[LightGBM] [Info] Number of data points in the train set: 29632, number of used features: 14\n",
      "[LightGBM] [Info] [binary:BoostFromScore]: pavg=0.556257 -> initscore=0.225984\n",
      "[LightGBM] [Info] Start training from score 0.225984\n",
      "[LightGBM] [Warning] Accuracy may be bad since you didn't explicitly set num_leaves OR 2^max_depth > num_leaves. (num_leaves=31).\n",
      "[LightGBM] [Warning] Accuracy may be bad since you didn't explicitly set num_leaves OR 2^max_depth > num_leaves. (num_leaves=31).\n",
      "[LightGBM] [Warning] Accuracy may be bad since you didn't explicitly set num_leaves OR 2^max_depth > num_leaves. (num_leaves=31).\n",
      "[LightGBM] [Info] Number of positive: 16483, number of negative: 13149\n",
      "[LightGBM] [Info] Auto-choosing col-wise multi-threading, the overhead of testing was 0.010052 seconds.\n",
      "You can set `force_col_wise=true` to remove the overhead.\n",
      "[LightGBM] [Info] Total Bins 3042\n",
      "[LightGBM] [Info] Number of data points in the train set: 29632, number of used features: 14\n",
      "[LightGBM] [Info] [binary:BoostFromScore]: pavg=0.556257 -> initscore=0.225984\n",
      "[LightGBM] [Info] Start training from score 0.225984\n",
      "[LightGBM] [Warning] Accuracy may be bad since you didn't explicitly set num_leaves OR 2^max_depth > num_leaves. (num_leaves=31).\n",
      "[LightGBM] [Warning] Accuracy may be bad since you didn't explicitly set num_leaves OR 2^max_depth > num_leaves. (num_leaves=31).\n",
      "[LightGBM] [Warning] Accuracy may be bad since you didn't explicitly set num_leaves OR 2^max_depth > num_leaves. (num_leaves=31).\n",
      "[LightGBM] [Info] Number of positive: 16484, number of negative: 13148\n",
      "[LightGBM] [Info] Auto-choosing col-wise multi-threading, the overhead of testing was 0.010382 seconds.\n",
      "You can set `force_col_wise=true` to remove the overhead.\n",
      "[LightGBM] [Info] Total Bins 3059\n",
      "[LightGBM] [Info] Number of data points in the train set: 29632, number of used features: 14\n",
      "[LightGBM] [Info] [binary:BoostFromScore]: pavg=0.556290 -> initscore=0.226121\n",
      "[LightGBM] [Info] Start training from score 0.226121\n",
      "[LightGBM] [Warning] Accuracy may be bad since you didn't explicitly set num_leaves OR 2^max_depth > num_leaves. (num_leaves=31).\n",
      "[LightGBM] [Warning] Accuracy may be bad since you didn't explicitly set num_leaves OR 2^max_depth > num_leaves. (num_leaves=31).\n",
      "[LightGBM] [Warning] Accuracy may be bad since you didn't explicitly set num_leaves OR 2^max_depth > num_leaves. (num_leaves=31).\n",
      "[LightGBM] [Info] Number of positive: 16483, number of negative: 13149\n",
      "[LightGBM] [Info] Auto-choosing col-wise multi-threading, the overhead of testing was 0.010140 seconds.\n",
      "You can set `force_col_wise=true` to remove the overhead.\n",
      "[LightGBM] [Info] Total Bins 3037\n",
      "[LightGBM] [Info] Number of data points in the train set: 29632, number of used features: 14\n",
      "[LightGBM] [Info] [binary:BoostFromScore]: pavg=0.556257 -> initscore=0.225984\n",
      "[LightGBM] [Info] Start training from score 0.225984\n",
      "[LightGBM] [Warning] Accuracy may be bad since you didn't explicitly set num_leaves OR 2^max_depth > num_leaves. (num_leaves=31).\n",
      "[LightGBM] [Warning] Accuracy may be bad since you didn't explicitly set num_leaves OR 2^max_depth > num_leaves. (num_leaves=31).\n",
      "[LightGBM] [Warning] Accuracy may be bad since you didn't explicitly set num_leaves OR 2^max_depth > num_leaves. (num_leaves=31).\n",
      "[LightGBM] [Info] Number of positive: 16483, number of negative: 13149\n",
      "[LightGBM] [Info] Auto-choosing col-wise multi-threading, the overhead of testing was 0.010055 seconds.\n",
      "You can set `force_col_wise=true` to remove the overhead.\n",
      "[LightGBM] [Info] Total Bins 3042\n",
      "[LightGBM] [Info] Number of data points in the train set: 29632, number of used features: 14\n",
      "[LightGBM] [Info] [binary:BoostFromScore]: pavg=0.556257 -> initscore=0.225984\n",
      "[LightGBM] [Info] Start training from score 0.225984\n",
      "[LightGBM] [Warning] Accuracy may be bad since you didn't explicitly set num_leaves OR 2^max_depth > num_leaves. (num_leaves=31).\n",
      "[LightGBM] [Warning] Accuracy may be bad since you didn't explicitly set num_leaves OR 2^max_depth > num_leaves. (num_leaves=31).\n",
      "[LightGBM] [Warning] Accuracy may be bad since you didn't explicitly set num_leaves OR 2^max_depth > num_leaves. (num_leaves=31).\n",
      "[LightGBM] [Info] Number of positive: 16484, number of negative: 13148\n",
      "[LightGBM] [Info] Auto-choosing col-wise multi-threading, the overhead of testing was 0.010180 seconds.\n",
      "You can set `force_col_wise=true` to remove the overhead.\n",
      "[LightGBM] [Info] Total Bins 3059\n",
      "[LightGBM] [Info] Number of data points in the train set: 29632, number of used features: 14\n",
      "[LightGBM] [Info] [binary:BoostFromScore]: pavg=0.556290 -> initscore=0.226121\n",
      "[LightGBM] [Info] Start training from score 0.226121\n",
      "[LightGBM] [Warning] Accuracy may be bad since you didn't explicitly set num_leaves OR 2^max_depth > num_leaves. (num_leaves=31).\n",
      "[LightGBM] [Warning] Accuracy may be bad since you didn't explicitly set num_leaves OR 2^max_depth > num_leaves. (num_leaves=31).\n",
      "[LightGBM] [Warning] Accuracy may be bad since you didn't explicitly set num_leaves OR 2^max_depth > num_leaves. (num_leaves=31).\n",
      "[LightGBM] [Info] Number of positive: 16483, number of negative: 13149\n",
      "[LightGBM] [Info] Auto-choosing col-wise multi-threading, the overhead of testing was 0.010164 seconds.\n",
      "You can set `force_col_wise=true` to remove the overhead.\n",
      "[LightGBM] [Info] Total Bins 3037\n",
      "[LightGBM] [Info] Number of data points in the train set: 29632, number of used features: 14\n",
      "[LightGBM] [Info] [binary:BoostFromScore]: pavg=0.556257 -> initscore=0.225984\n",
      "[LightGBM] [Info] Start training from score 0.225984\n",
      "[LightGBM] [Warning] Accuracy may be bad since you didn't explicitly set num_leaves OR 2^max_depth > num_leaves. (num_leaves=31).\n",
      "[LightGBM] [Warning] Accuracy may be bad since you didn't explicitly set num_leaves OR 2^max_depth > num_leaves. (num_leaves=31).\n",
      "[LightGBM] [Warning] Accuracy may be bad since you didn't explicitly set num_leaves OR 2^max_depth > num_leaves. (num_leaves=31).\n",
      "[LightGBM] [Info] Number of positive: 16483, number of negative: 13149\n",
      "[LightGBM] [Info] Auto-choosing col-wise multi-threading, the overhead of testing was 0.010101 seconds.\n",
      "You can set `force_col_wise=true` to remove the overhead.\n",
      "[LightGBM] [Info] Total Bins 3042\n",
      "[LightGBM] [Info] Number of data points in the train set: 29632, number of used features: 14\n",
      "[LightGBM] [Info] [binary:BoostFromScore]: pavg=0.556257 -> initscore=0.225984\n",
      "[LightGBM] [Info] Start training from score 0.225984\n",
      "[LightGBM] [Warning] Accuracy may be bad since you didn't explicitly set num_leaves OR 2^max_depth > num_leaves. (num_leaves=31).\n",
      "[LightGBM] [Warning] Accuracy may be bad since you didn't explicitly set num_leaves OR 2^max_depth > num_leaves. (num_leaves=31).\n",
      "[LightGBM] [Warning] Accuracy may be bad since you didn't explicitly set num_leaves OR 2^max_depth > num_leaves. (num_leaves=31).\n",
      "[LightGBM] [Info] Number of positive: 16484, number of negative: 13148\n",
      "[LightGBM] [Info] Auto-choosing col-wise multi-threading, the overhead of testing was 0.010521 seconds.\n",
      "You can set `force_col_wise=true` to remove the overhead.\n",
      "[LightGBM] [Info] Total Bins 3059\n",
      "[LightGBM] [Info] Number of data points in the train set: 29632, number of used features: 14\n",
      "[LightGBM] [Info] [binary:BoostFromScore]: pavg=0.556290 -> initscore=0.226121\n",
      "[LightGBM] [Info] Start training from score 0.226121\n",
      "[LightGBM] [Warning] Accuracy may be bad since you didn't explicitly set num_leaves OR 2^max_depth > num_leaves. (num_leaves=31).\n",
      "[LightGBM] [Warning] Accuracy may be bad since you didn't explicitly set num_leaves OR 2^max_depth > num_leaves. (num_leaves=31).\n",
      "[LightGBM] [Warning] Accuracy may be bad since you didn't explicitly set num_leaves OR 2^max_depth > num_leaves. (num_leaves=31).\n",
      "[LightGBM] [Info] Number of positive: 16483, number of negative: 13149\n",
      "[LightGBM] [Info] Auto-choosing col-wise multi-threading, the overhead of testing was 0.010372 seconds.\n",
      "You can set `force_col_wise=true` to remove the overhead.\n",
      "[LightGBM] [Info] Total Bins 3037\n",
      "[LightGBM] [Info] Number of data points in the train set: 29632, number of used features: 14\n",
      "[LightGBM] [Info] [binary:BoostFromScore]: pavg=0.556257 -> initscore=0.225984\n",
      "[LightGBM] [Info] Start training from score 0.225984\n",
      "[LightGBM] [Warning] Accuracy may be bad since you didn't explicitly set num_leaves OR 2^max_depth > num_leaves. (num_leaves=31).\n",
      "[LightGBM] [Warning] Accuracy may be bad since you didn't explicitly set num_leaves OR 2^max_depth > num_leaves. (num_leaves=31).\n",
      "[LightGBM] [Warning] Accuracy may be bad since you didn't explicitly set num_leaves OR 2^max_depth > num_leaves. (num_leaves=31).\n",
      "[LightGBM] [Info] Number of positive: 16483, number of negative: 13149\n",
      "[LightGBM] [Info] Auto-choosing col-wise multi-threading, the overhead of testing was 0.010425 seconds.\n",
      "You can set `force_col_wise=true` to remove the overhead.\n",
      "[LightGBM] [Info] Total Bins 3042\n",
      "[LightGBM] [Info] Number of data points in the train set: 29632, number of used features: 14\n",
      "[LightGBM] [Info] [binary:BoostFromScore]: pavg=0.556257 -> initscore=0.225984\n",
      "[LightGBM] [Info] Start training from score 0.225984\n",
      "[LightGBM] [Warning] Accuracy may be bad since you didn't explicitly set num_leaves OR 2^max_depth > num_leaves. (num_leaves=31).\n",
      "[LightGBM] [Warning] Accuracy may be bad since you didn't explicitly set num_leaves OR 2^max_depth > num_leaves. (num_leaves=31).\n",
      "[LightGBM] [Warning] Accuracy may be bad since you didn't explicitly set num_leaves OR 2^max_depth > num_leaves. (num_leaves=31).\n",
      "[LightGBM] [Info] Number of positive: 16484, number of negative: 13148\n",
      "[LightGBM] [Info] Auto-choosing col-wise multi-threading, the overhead of testing was 0.010582 seconds.\n",
      "You can set `force_col_wise=true` to remove the overhead.\n",
      "[LightGBM] [Info] Total Bins 3059\n",
      "[LightGBM] [Info] Number of data points in the train set: 29632, number of used features: 14\n",
      "[LightGBM] [Info] [binary:BoostFromScore]: pavg=0.556290 -> initscore=0.226121\n",
      "[LightGBM] [Info] Start training from score 0.226121\n",
      "[LightGBM] [Warning] Accuracy may be bad since you didn't explicitly set num_leaves OR 2^max_depth > num_leaves. (num_leaves=31).\n",
      "[LightGBM] [Warning] Accuracy may be bad since you didn't explicitly set num_leaves OR 2^max_depth > num_leaves. (num_leaves=31).\n",
      "[LightGBM] [Warning] Accuracy may be bad since you didn't explicitly set num_leaves OR 2^max_depth > num_leaves. (num_leaves=31).\n",
      "[LightGBM] [Info] Number of positive: 16483, number of negative: 13149\n",
      "[LightGBM] [Info] Auto-choosing col-wise multi-threading, the overhead of testing was 0.010173 seconds.\n",
      "You can set `force_col_wise=true` to remove the overhead.\n",
      "[LightGBM] [Info] Total Bins 3037\n",
      "[LightGBM] [Info] Number of data points in the train set: 29632, number of used features: 14\n",
      "[LightGBM] [Info] [binary:BoostFromScore]: pavg=0.556257 -> initscore=0.225984\n",
      "[LightGBM] [Info] Start training from score 0.225984\n",
      "[LightGBM] [Warning] Accuracy may be bad since you didn't explicitly set num_leaves OR 2^max_depth > num_leaves. (num_leaves=31).\n",
      "[LightGBM] [Warning] Accuracy may be bad since you didn't explicitly set num_leaves OR 2^max_depth > num_leaves. (num_leaves=31).\n",
      "[LightGBM] [Warning] Accuracy may be bad since you didn't explicitly set num_leaves OR 2^max_depth > num_leaves. (num_leaves=31).\n",
      "[LightGBM] [Info] Number of positive: 16483, number of negative: 13149\n",
      "[LightGBM] [Info] Auto-choosing col-wise multi-threading, the overhead of testing was 0.010394 seconds.\n",
      "You can set `force_col_wise=true` to remove the overhead.\n",
      "[LightGBM] [Info] Total Bins 3042\n",
      "[LightGBM] [Info] Number of data points in the train set: 29632, number of used features: 14\n",
      "[LightGBM] [Info] [binary:BoostFromScore]: pavg=0.556257 -> initscore=0.225984\n",
      "[LightGBM] [Info] Start training from score 0.225984\n",
      "[LightGBM] [Warning] Accuracy may be bad since you didn't explicitly set num_leaves OR 2^max_depth > num_leaves. (num_leaves=31).\n",
      "[LightGBM] [Warning] Accuracy may be bad since you didn't explicitly set num_leaves OR 2^max_depth > num_leaves. (num_leaves=31).\n",
      "[LightGBM] [Warning] Accuracy may be bad since you didn't explicitly set num_leaves OR 2^max_depth > num_leaves. (num_leaves=31).\n",
      "[LightGBM] [Info] Number of positive: 16484, number of negative: 13148\n",
      "[LightGBM] [Info] Auto-choosing col-wise multi-threading, the overhead of testing was 0.010445 seconds.\n",
      "You can set `force_col_wise=true` to remove the overhead.\n",
      "[LightGBM] [Info] Total Bins 3059\n",
      "[LightGBM] [Info] Number of data points in the train set: 29632, number of used features: 14\n",
      "[LightGBM] [Info] [binary:BoostFromScore]: pavg=0.556290 -> initscore=0.226121\n",
      "[LightGBM] [Info] Start training from score 0.226121\n",
      "[LightGBM] [Warning] Accuracy may be bad since you didn't explicitly set num_leaves OR 2^max_depth > num_leaves. (num_leaves=31).\n",
      "[LightGBM] [Warning] Accuracy may be bad since you didn't explicitly set num_leaves OR 2^max_depth > num_leaves. (num_leaves=31).\n",
      "[LightGBM] [Warning] Accuracy may be bad since you didn't explicitly set num_leaves OR 2^max_depth > num_leaves. (num_leaves=31).\n",
      "[LightGBM] [Info] Number of positive: 16483, number of negative: 13149\n",
      "[LightGBM] [Info] Auto-choosing col-wise multi-threading, the overhead of testing was 0.010214 seconds.\n",
      "You can set `force_col_wise=true` to remove the overhead.\n",
      "[LightGBM] [Info] Total Bins 3037\n",
      "[LightGBM] [Info] Number of data points in the train set: 29632, number of used features: 14\n",
      "[LightGBM] [Info] [binary:BoostFromScore]: pavg=0.556257 -> initscore=0.225984\n",
      "[LightGBM] [Info] Start training from score 0.225984\n",
      "[LightGBM] [Warning] Accuracy may be bad since you didn't explicitly set num_leaves OR 2^max_depth > num_leaves. (num_leaves=31).\n",
      "[LightGBM] [Warning] Accuracy may be bad since you didn't explicitly set num_leaves OR 2^max_depth > num_leaves. (num_leaves=31).\n",
      "[LightGBM] [Warning] Accuracy may be bad since you didn't explicitly set num_leaves OR 2^max_depth > num_leaves. (num_leaves=31).\n",
      "[LightGBM] [Info] Number of positive: 16483, number of negative: 13149\n",
      "[LightGBM] [Info] Auto-choosing col-wise multi-threading, the overhead of testing was 0.010644 seconds.\n",
      "You can set `force_col_wise=true` to remove the overhead.\n",
      "[LightGBM] [Info] Total Bins 3042\n",
      "[LightGBM] [Info] Number of data points in the train set: 29632, number of used features: 14\n",
      "[LightGBM] [Info] [binary:BoostFromScore]: pavg=0.556257 -> initscore=0.225984\n",
      "[LightGBM] [Info] Start training from score 0.225984\n",
      "[LightGBM] [Warning] Accuracy may be bad since you didn't explicitly set num_leaves OR 2^max_depth > num_leaves. (num_leaves=31).\n",
      "[LightGBM] [Warning] Accuracy may be bad since you didn't explicitly set num_leaves OR 2^max_depth > num_leaves. (num_leaves=31).\n",
      "[LightGBM] [Warning] Accuracy may be bad since you didn't explicitly set num_leaves OR 2^max_depth > num_leaves. (num_leaves=31).\n",
      "[LightGBM] [Info] Number of positive: 16484, number of negative: 13148\n",
      "[LightGBM] [Info] Auto-choosing col-wise multi-threading, the overhead of testing was 0.010211 seconds.\n",
      "You can set `force_col_wise=true` to remove the overhead.\n",
      "[LightGBM] [Info] Total Bins 3059\n",
      "[LightGBM] [Info] Number of data points in the train set: 29632, number of used features: 14\n",
      "[LightGBM] [Info] [binary:BoostFromScore]: pavg=0.556290 -> initscore=0.226121\n",
      "[LightGBM] [Info] Start training from score 0.226121\n",
      "[LightGBM] [Warning] Accuracy may be bad since you didn't explicitly set num_leaves OR 2^max_depth > num_leaves. (num_leaves=31).\n",
      "[LightGBM] [Warning] Accuracy may be bad since you didn't explicitly set num_leaves OR 2^max_depth > num_leaves. (num_leaves=31).\n",
      "[LightGBM] [Warning] Accuracy may be bad since you didn't explicitly set num_leaves OR 2^max_depth > num_leaves. (num_leaves=31).\n",
      "[LightGBM] [Info] Number of positive: 16483, number of negative: 13149\n",
      "[LightGBM] [Info] Auto-choosing col-wise multi-threading, the overhead of testing was 0.010227 seconds.\n",
      "You can set `force_col_wise=true` to remove the overhead.\n",
      "[LightGBM] [Info] Total Bins 3037\n",
      "[LightGBM] [Info] Number of data points in the train set: 29632, number of used features: 14\n",
      "[LightGBM] [Info] [binary:BoostFromScore]: pavg=0.556257 -> initscore=0.225984\n",
      "[LightGBM] [Info] Start training from score 0.225984\n",
      "[LightGBM] [Warning] Accuracy may be bad since you didn't explicitly set num_leaves OR 2^max_depth > num_leaves. (num_leaves=31).\n",
      "[LightGBM] [Warning] Accuracy may be bad since you didn't explicitly set num_leaves OR 2^max_depth > num_leaves. (num_leaves=31).\n",
      "[LightGBM] [Warning] Accuracy may be bad since you didn't explicitly set num_leaves OR 2^max_depth > num_leaves. (num_leaves=31).\n",
      "[LightGBM] [Info] Number of positive: 16483, number of negative: 13149\n",
      "[LightGBM] [Info] Auto-choosing col-wise multi-threading, the overhead of testing was 0.010148 seconds.\n",
      "You can set `force_col_wise=true` to remove the overhead.\n",
      "[LightGBM] [Info] Total Bins 3042\n",
      "[LightGBM] [Info] Number of data points in the train set: 29632, number of used features: 14\n",
      "[LightGBM] [Info] [binary:BoostFromScore]: pavg=0.556257 -> initscore=0.225984\n",
      "[LightGBM] [Info] Start training from score 0.225984\n",
      "[LightGBM] [Warning] Accuracy may be bad since you didn't explicitly set num_leaves OR 2^max_depth > num_leaves. (num_leaves=31).\n",
      "[LightGBM] [Warning] Accuracy may be bad since you didn't explicitly set num_leaves OR 2^max_depth > num_leaves. (num_leaves=31).\n",
      "[LightGBM] [Warning] Accuracy may be bad since you didn't explicitly set num_leaves OR 2^max_depth > num_leaves. (num_leaves=31).\n",
      "[LightGBM] [Info] Number of positive: 16484, number of negative: 13148\n",
      "[LightGBM] [Info] Auto-choosing col-wise multi-threading, the overhead of testing was 0.010127 seconds.\n",
      "You can set `force_col_wise=true` to remove the overhead.\n",
      "[LightGBM] [Info] Total Bins 3059\n",
      "[LightGBM] [Info] Number of data points in the train set: 29632, number of used features: 14\n",
      "[LightGBM] [Info] [binary:BoostFromScore]: pavg=0.556290 -> initscore=0.226121\n",
      "[LightGBM] [Info] Start training from score 0.226121\n",
      "[LightGBM] [Warning] Accuracy may be bad since you didn't explicitly set num_leaves OR 2^max_depth > num_leaves. (num_leaves=31).\n",
      "[LightGBM] [Warning] Accuracy may be bad since you didn't explicitly set num_leaves OR 2^max_depth > num_leaves. (num_leaves=31).\n",
      "[LightGBM] [Warning] Accuracy may be bad since you didn't explicitly set num_leaves OR 2^max_depth > num_leaves. (num_leaves=31).\n",
      "[LightGBM] [Info] Number of positive: 16483, number of negative: 13149\n",
      "[LightGBM] [Info] Auto-choosing row-wise multi-threading, the overhead of testing was 0.005285 seconds.\n",
      "You can set `force_row_wise=true` to remove the overhead.\n",
      "And if memory is not enough, you can set `force_col_wise=true`.\n",
      "[LightGBM] [Info] Total Bins 3037\n",
      "[LightGBM] [Info] Number of data points in the train set: 29632, number of used features: 14\n",
      "[LightGBM] [Info] [binary:BoostFromScore]: pavg=0.556257 -> initscore=0.225984\n",
      "[LightGBM] [Info] Start training from score 0.225984\n",
      "[LightGBM] [Warning] Accuracy may be bad since you didn't explicitly set num_leaves OR 2^max_depth > num_leaves. (num_leaves=31).\n",
      "[LightGBM] [Warning] Accuracy may be bad since you didn't explicitly set num_leaves OR 2^max_depth > num_leaves. (num_leaves=31).\n",
      "[LightGBM] [Warning] Accuracy may be bad since you didn't explicitly set num_leaves OR 2^max_depth > num_leaves. (num_leaves=31).\n",
      "[LightGBM] [Info] Number of positive: 16483, number of negative: 13149\n",
      "[LightGBM] [Info] Auto-choosing col-wise multi-threading, the overhead of testing was 0.010769 seconds.\n",
      "You can set `force_col_wise=true` to remove the overhead.\n",
      "[LightGBM] [Info] Total Bins 3042\n",
      "[LightGBM] [Info] Number of data points in the train set: 29632, number of used features: 14\n",
      "[LightGBM] [Info] [binary:BoostFromScore]: pavg=0.556257 -> initscore=0.225984\n",
      "[LightGBM] [Info] Start training from score 0.225984\n",
      "[LightGBM] [Warning] Accuracy may be bad since you didn't explicitly set num_leaves OR 2^max_depth > num_leaves. (num_leaves=31).\n",
      "[LightGBM] [Warning] Accuracy may be bad since you didn't explicitly set num_leaves OR 2^max_depth > num_leaves. (num_leaves=31).\n",
      "[LightGBM] [Warning] Accuracy may be bad since you didn't explicitly set num_leaves OR 2^max_depth > num_leaves. (num_leaves=31).\n",
      "[LightGBM] [Info] Number of positive: 16484, number of negative: 13148\n",
      "[LightGBM] [Info] Auto-choosing col-wise multi-threading, the overhead of testing was 0.010639 seconds.\n",
      "You can set `force_col_wise=true` to remove the overhead.\n",
      "[LightGBM] [Info] Total Bins 3059\n",
      "[LightGBM] [Info] Number of data points in the train set: 29632, number of used features: 14\n",
      "[LightGBM] [Info] [binary:BoostFromScore]: pavg=0.556290 -> initscore=0.226121\n",
      "[LightGBM] [Info] Start training from score 0.226121\n",
      "[LightGBM] [Warning] Accuracy may be bad since you didn't explicitly set num_leaves OR 2^max_depth > num_leaves. (num_leaves=31).\n",
      "[LightGBM] [Warning] Accuracy may be bad since you didn't explicitly set num_leaves OR 2^max_depth > num_leaves. (num_leaves=31).\n",
      "[LightGBM] [Warning] Accuracy may be bad since you didn't explicitly set num_leaves OR 2^max_depth > num_leaves. (num_leaves=31).\n",
      "[LightGBM] [Info] Number of positive: 16483, number of negative: 13149\n",
      "[LightGBM] [Info] Auto-choosing col-wise multi-threading, the overhead of testing was 0.010026 seconds.\n",
      "You can set `force_col_wise=true` to remove the overhead.\n",
      "[LightGBM] [Info] Total Bins 3037\n",
      "[LightGBM] [Info] Number of data points in the train set: 29632, number of used features: 14\n",
      "[LightGBM] [Info] [binary:BoostFromScore]: pavg=0.556257 -> initscore=0.225984\n",
      "[LightGBM] [Info] Start training from score 0.225984\n",
      "[LightGBM] [Warning] Accuracy may be bad since you didn't explicitly set num_leaves OR 2^max_depth > num_leaves. (num_leaves=31).\n",
      "[LightGBM] [Warning] Accuracy may be bad since you didn't explicitly set num_leaves OR 2^max_depth > num_leaves. (num_leaves=31).\n",
      "[LightGBM] [Warning] Accuracy may be bad since you didn't explicitly set num_leaves OR 2^max_depth > num_leaves. (num_leaves=31).\n",
      "[LightGBM] [Info] Number of positive: 16483, number of negative: 13149\n",
      "[LightGBM] [Info] Auto-choosing col-wise multi-threading, the overhead of testing was 0.010243 seconds.\n",
      "You can set `force_col_wise=true` to remove the overhead.\n",
      "[LightGBM] [Info] Total Bins 3042\n",
      "[LightGBM] [Info] Number of data points in the train set: 29632, number of used features: 14\n",
      "[LightGBM] [Info] [binary:BoostFromScore]: pavg=0.556257 -> initscore=0.225984\n",
      "[LightGBM] [Info] Start training from score 0.225984\n",
      "[LightGBM] [Warning] Accuracy may be bad since you didn't explicitly set num_leaves OR 2^max_depth > num_leaves. (num_leaves=31).\n",
      "[LightGBM] [Warning] Accuracy may be bad since you didn't explicitly set num_leaves OR 2^max_depth > num_leaves. (num_leaves=31).\n",
      "[LightGBM] [Warning] Accuracy may be bad since you didn't explicitly set num_leaves OR 2^max_depth > num_leaves. (num_leaves=31).\n",
      "[LightGBM] [Info] Number of positive: 16484, number of negative: 13148\n",
      "[LightGBM] [Info] Auto-choosing col-wise multi-threading, the overhead of testing was 0.010516 seconds.\n",
      "You can set `force_col_wise=true` to remove the overhead.\n",
      "[LightGBM] [Info] Total Bins 3059\n",
      "[LightGBM] [Info] Number of data points in the train set: 29632, number of used features: 14\n",
      "[LightGBM] [Info] [binary:BoostFromScore]: pavg=0.556290 -> initscore=0.226121\n",
      "[LightGBM] [Info] Start training from score 0.226121\n",
      "[LightGBM] [Warning] Accuracy may be bad since you didn't explicitly set num_leaves OR 2^max_depth > num_leaves. (num_leaves=31).\n",
      "[LightGBM] [Warning] Accuracy may be bad since you didn't explicitly set num_leaves OR 2^max_depth > num_leaves. (num_leaves=31).\n",
      "[LightGBM] [Warning] Accuracy may be bad since you didn't explicitly set num_leaves OR 2^max_depth > num_leaves. (num_leaves=31).\n",
      "[LightGBM] [Info] Number of positive: 16483, number of negative: 13149\n",
      "[LightGBM] [Info] Auto-choosing col-wise multi-threading, the overhead of testing was 0.010240 seconds.\n",
      "You can set `force_col_wise=true` to remove the overhead.\n",
      "[LightGBM] [Info] Total Bins 3037\n",
      "[LightGBM] [Info] Number of data points in the train set: 29632, number of used features: 14\n",
      "[LightGBM] [Info] [binary:BoostFromScore]: pavg=0.556257 -> initscore=0.225984\n",
      "[LightGBM] [Info] Start training from score 0.225984\n",
      "[LightGBM] [Warning] Accuracy may be bad since you didn't explicitly set num_leaves OR 2^max_depth > num_leaves. (num_leaves=31).\n",
      "[LightGBM] [Warning] Accuracy may be bad since you didn't explicitly set num_leaves OR 2^max_depth > num_leaves. (num_leaves=31).\n",
      "[LightGBM] [Warning] Accuracy may be bad since you didn't explicitly set num_leaves OR 2^max_depth > num_leaves. (num_leaves=31).\n",
      "[LightGBM] [Info] Number of positive: 16483, number of negative: 13149\n",
      "[LightGBM] [Info] Auto-choosing col-wise multi-threading, the overhead of testing was 0.010661 seconds.\n",
      "You can set `force_col_wise=true` to remove the overhead.\n",
      "[LightGBM] [Info] Total Bins 3042\n",
      "[LightGBM] [Info] Number of data points in the train set: 29632, number of used features: 14\n",
      "[LightGBM] [Info] [binary:BoostFromScore]: pavg=0.556257 -> initscore=0.225984\n",
      "[LightGBM] [Info] Start training from score 0.225984\n",
      "[LightGBM] [Warning] Accuracy may be bad since you didn't explicitly set num_leaves OR 2^max_depth > num_leaves. (num_leaves=31).\n",
      "[LightGBM] [Warning] Accuracy may be bad since you didn't explicitly set num_leaves OR 2^max_depth > num_leaves. (num_leaves=31).\n",
      "[LightGBM] [Warning] Accuracy may be bad since you didn't explicitly set num_leaves OR 2^max_depth > num_leaves. (num_leaves=31).\n",
      "[LightGBM] [Info] Number of positive: 16484, number of negative: 13148\n",
      "[LightGBM] [Info] Auto-choosing col-wise multi-threading, the overhead of testing was 0.010239 seconds.\n",
      "You can set `force_col_wise=true` to remove the overhead.\n",
      "[LightGBM] [Info] Total Bins 3059\n",
      "[LightGBM] [Info] Number of data points in the train set: 29632, number of used features: 14\n",
      "[LightGBM] [Info] [binary:BoostFromScore]: pavg=0.556290 -> initscore=0.226121\n",
      "[LightGBM] [Info] Start training from score 0.226121\n",
      "[LightGBM] [Warning] Accuracy may be bad since you didn't explicitly set num_leaves OR 2^max_depth > num_leaves. (num_leaves=31).\n",
      "[LightGBM] [Warning] Accuracy may be bad since you didn't explicitly set num_leaves OR 2^max_depth > num_leaves. (num_leaves=31).\n",
      "[LightGBM] [Warning] Accuracy may be bad since you didn't explicitly set num_leaves OR 2^max_depth > num_leaves. (num_leaves=31).\n",
      "[LightGBM] [Info] Number of positive: 16483, number of negative: 13149\n",
      "[LightGBM] [Info] Auto-choosing col-wise multi-threading, the overhead of testing was 0.010298 seconds.\n",
      "You can set `force_col_wise=true` to remove the overhead.\n",
      "[LightGBM] [Info] Total Bins 3037\n",
      "[LightGBM] [Info] Number of data points in the train set: 29632, number of used features: 14\n",
      "[LightGBM] [Info] [binary:BoostFromScore]: pavg=0.556257 -> initscore=0.225984\n",
      "[LightGBM] [Info] Start training from score 0.225984\n",
      "[LightGBM] [Warning] Accuracy may be bad since you didn't explicitly set num_leaves OR 2^max_depth > num_leaves. (num_leaves=31).\n",
      "[LightGBM] [Warning] Accuracy may be bad since you didn't explicitly set num_leaves OR 2^max_depth > num_leaves. (num_leaves=31).\n",
      "[LightGBM] [Warning] Accuracy may be bad since you didn't explicitly set num_leaves OR 2^max_depth > num_leaves. (num_leaves=31).\n",
      "[LightGBM] [Info] Number of positive: 16483, number of negative: 13149\n",
      "[LightGBM] [Info] Auto-choosing col-wise multi-threading, the overhead of testing was 0.010097 seconds.\n",
      "You can set `force_col_wise=true` to remove the overhead.\n",
      "[LightGBM] [Info] Total Bins 3042\n",
      "[LightGBM] [Info] Number of data points in the train set: 29632, number of used features: 14\n",
      "[LightGBM] [Info] [binary:BoostFromScore]: pavg=0.556257 -> initscore=0.225984\n",
      "[LightGBM] [Info] Start training from score 0.225984\n",
      "[LightGBM] [Warning] Accuracy may be bad since you didn't explicitly set num_leaves OR 2^max_depth > num_leaves. (num_leaves=31).\n",
      "[LightGBM] [Warning] Accuracy may be bad since you didn't explicitly set num_leaves OR 2^max_depth > num_leaves. (num_leaves=31).\n",
      "[LightGBM] [Warning] Accuracy may be bad since you didn't explicitly set num_leaves OR 2^max_depth > num_leaves. (num_leaves=31).\n",
      "[LightGBM] [Info] Number of positive: 16484, number of negative: 13148\n",
      "[LightGBM] [Info] Auto-choosing col-wise multi-threading, the overhead of testing was 0.010188 seconds.\n",
      "You can set `force_col_wise=true` to remove the overhead.\n",
      "[LightGBM] [Info] Total Bins 3059\n",
      "[LightGBM] [Info] Number of data points in the train set: 29632, number of used features: 14\n",
      "[LightGBM] [Info] [binary:BoostFromScore]: pavg=0.556290 -> initscore=0.226121\n",
      "[LightGBM] [Info] Start training from score 0.226121\n",
      "[LightGBM] [Warning] Accuracy may be bad since you didn't explicitly set num_leaves OR 2^max_depth > num_leaves. (num_leaves=31).\n",
      "[LightGBM] [Warning] Accuracy may be bad since you didn't explicitly set num_leaves OR 2^max_depth > num_leaves. (num_leaves=31).\n",
      "[LightGBM] [Warning] Accuracy may be bad since you didn't explicitly set num_leaves OR 2^max_depth > num_leaves. (num_leaves=31).\n",
      "[LightGBM] [Info] Number of positive: 16483, number of negative: 13149\n",
      "[LightGBM] [Info] Auto-choosing col-wise multi-threading, the overhead of testing was 0.010721 seconds.\n",
      "You can set `force_col_wise=true` to remove the overhead.\n",
      "[LightGBM] [Info] Total Bins 3037\n",
      "[LightGBM] [Info] Number of data points in the train set: 29632, number of used features: 14\n",
      "[LightGBM] [Info] [binary:BoostFromScore]: pavg=0.556257 -> initscore=0.225984\n",
      "[LightGBM] [Info] Start training from score 0.225984\n",
      "[LightGBM] [Warning] Accuracy may be bad since you didn't explicitly set num_leaves OR 2^max_depth > num_leaves. (num_leaves=31).\n",
      "[LightGBM] [Warning] Accuracy may be bad since you didn't explicitly set num_leaves OR 2^max_depth > num_leaves. (num_leaves=31).\n",
      "[LightGBM] [Warning] Accuracy may be bad since you didn't explicitly set num_leaves OR 2^max_depth > num_leaves. (num_leaves=31).\n",
      "[LightGBM] [Info] Number of positive: 16483, number of negative: 13149\n",
      "[LightGBM] [Info] Auto-choosing col-wise multi-threading, the overhead of testing was 0.010688 seconds.\n",
      "You can set `force_col_wise=true` to remove the overhead.\n",
      "[LightGBM] [Info] Total Bins 3042\n",
      "[LightGBM] [Info] Number of data points in the train set: 29632, number of used features: 14\n",
      "[LightGBM] [Info] [binary:BoostFromScore]: pavg=0.556257 -> initscore=0.225984\n",
      "[LightGBM] [Info] Start training from score 0.225984\n",
      "[LightGBM] [Warning] Accuracy may be bad since you didn't explicitly set num_leaves OR 2^max_depth > num_leaves. (num_leaves=31).\n",
      "[LightGBM] [Warning] Accuracy may be bad since you didn't explicitly set num_leaves OR 2^max_depth > num_leaves. (num_leaves=31).\n",
      "[LightGBM] [Warning] Accuracy may be bad since you didn't explicitly set num_leaves OR 2^max_depth > num_leaves. (num_leaves=31).\n",
      "[LightGBM] [Info] Number of positive: 16484, number of negative: 13148\n",
      "[LightGBM] [Info] Auto-choosing col-wise multi-threading, the overhead of testing was 0.010961 seconds.\n",
      "You can set `force_col_wise=true` to remove the overhead.\n",
      "[LightGBM] [Info] Total Bins 3059\n",
      "[LightGBM] [Info] Number of data points in the train set: 29632, number of used features: 14\n",
      "[LightGBM] [Info] [binary:BoostFromScore]: pavg=0.556290 -> initscore=0.226121\n",
      "[LightGBM] [Info] Start training from score 0.226121\n",
      "[LightGBM] [Warning] Accuracy may be bad since you didn't explicitly set num_leaves OR 2^max_depth > num_leaves. (num_leaves=31).\n",
      "[LightGBM] [Warning] Accuracy may be bad since you didn't explicitly set num_leaves OR 2^max_depth > num_leaves. (num_leaves=31).\n",
      "[LightGBM] [Warning] Accuracy may be bad since you didn't explicitly set num_leaves OR 2^max_depth > num_leaves. (num_leaves=31).\n",
      "[LightGBM] [Info] Number of positive: 16483, number of negative: 13149\n",
      "[LightGBM] [Info] Auto-choosing col-wise multi-threading, the overhead of testing was 0.010126 seconds.\n",
      "You can set `force_col_wise=true` to remove the overhead.\n",
      "[LightGBM] [Info] Total Bins 3037\n",
      "[LightGBM] [Info] Number of data points in the train set: 29632, number of used features: 14\n",
      "[LightGBM] [Info] [binary:BoostFromScore]: pavg=0.556257 -> initscore=0.225984\n",
      "[LightGBM] [Info] Start training from score 0.225984\n",
      "[LightGBM] [Warning] Accuracy may be bad since you didn't explicitly set num_leaves OR 2^max_depth > num_leaves. (num_leaves=31).\n",
      "[LightGBM] [Warning] Accuracy may be bad since you didn't explicitly set num_leaves OR 2^max_depth > num_leaves. (num_leaves=31).\n",
      "[LightGBM] [Warning] Accuracy may be bad since you didn't explicitly set num_leaves OR 2^max_depth > num_leaves. (num_leaves=31).\n",
      "[LightGBM] [Info] Number of positive: 16483, number of negative: 13149\n",
      "[LightGBM] [Info] Auto-choosing col-wise multi-threading, the overhead of testing was 0.010457 seconds.\n",
      "You can set `force_col_wise=true` to remove the overhead.\n",
      "[LightGBM] [Info] Total Bins 3042\n",
      "[LightGBM] [Info] Number of data points in the train set: 29632, number of used features: 14\n",
      "[LightGBM] [Info] [binary:BoostFromScore]: pavg=0.556257 -> initscore=0.225984\n",
      "[LightGBM] [Info] Start training from score 0.225984\n",
      "[LightGBM] [Warning] Accuracy may be bad since you didn't explicitly set num_leaves OR 2^max_depth > num_leaves. (num_leaves=31).\n",
      "[LightGBM] [Warning] Accuracy may be bad since you didn't explicitly set num_leaves OR 2^max_depth > num_leaves. (num_leaves=31).\n",
      "[LightGBM] [Warning] Accuracy may be bad since you didn't explicitly set num_leaves OR 2^max_depth > num_leaves. (num_leaves=31).\n",
      "[LightGBM] [Info] Number of positive: 16484, number of negative: 13148\n",
      "[LightGBM] [Info] Auto-choosing col-wise multi-threading, the overhead of testing was 0.010159 seconds.\n",
      "You can set `force_col_wise=true` to remove the overhead.\n",
      "[LightGBM] [Info] Total Bins 3059\n",
      "[LightGBM] [Info] Number of data points in the train set: 29632, number of used features: 14\n",
      "[LightGBM] [Info] [binary:BoostFromScore]: pavg=0.556290 -> initscore=0.226121\n",
      "[LightGBM] [Info] Start training from score 0.226121\n",
      "[LightGBM] [Warning] Accuracy may be bad since you didn't explicitly set num_leaves OR 2^max_depth > num_leaves. (num_leaves=31).\n",
      "[LightGBM] [Warning] Accuracy may be bad since you didn't explicitly set num_leaves OR 2^max_depth > num_leaves. (num_leaves=31).\n",
      "[LightGBM] [Warning] Accuracy may be bad since you didn't explicitly set num_leaves OR 2^max_depth > num_leaves. (num_leaves=31).\n",
      "[LightGBM] [Info] Number of positive: 16483, number of negative: 13149\n",
      "[LightGBM] [Info] Auto-choosing col-wise multi-threading, the overhead of testing was 0.010492 seconds.\n",
      "You can set `force_col_wise=true` to remove the overhead.\n",
      "[LightGBM] [Info] Total Bins 3037\n",
      "[LightGBM] [Info] Number of data points in the train set: 29632, number of used features: 14\n",
      "[LightGBM] [Info] [binary:BoostFromScore]: pavg=0.556257 -> initscore=0.225984\n",
      "[LightGBM] [Info] Start training from score 0.225984\n",
      "[LightGBM] [Warning] Accuracy may be bad since you didn't explicitly set num_leaves OR 2^max_depth > num_leaves. (num_leaves=31).\n",
      "[LightGBM] [Warning] Accuracy may be bad since you didn't explicitly set num_leaves OR 2^max_depth > num_leaves. (num_leaves=31).\n",
      "[LightGBM] [Warning] Accuracy may be bad since you didn't explicitly set num_leaves OR 2^max_depth > num_leaves. (num_leaves=31).\n",
      "[LightGBM] [Info] Number of positive: 16483, number of negative: 13149\n",
      "[LightGBM] [Info] Auto-choosing col-wise multi-threading, the overhead of testing was 0.010074 seconds.\n",
      "You can set `force_col_wise=true` to remove the overhead.\n",
      "[LightGBM] [Info] Total Bins 3042\n",
      "[LightGBM] [Info] Number of data points in the train set: 29632, number of used features: 14\n",
      "[LightGBM] [Info] [binary:BoostFromScore]: pavg=0.556257 -> initscore=0.225984\n",
      "[LightGBM] [Info] Start training from score 0.225984\n",
      "[LightGBM] [Warning] Accuracy may be bad since you didn't explicitly set num_leaves OR 2^max_depth > num_leaves. (num_leaves=31).\n",
      "[LightGBM] [Warning] Accuracy may be bad since you didn't explicitly set num_leaves OR 2^max_depth > num_leaves. (num_leaves=31).\n",
      "[LightGBM] [Warning] Accuracy may be bad since you didn't explicitly set num_leaves OR 2^max_depth > num_leaves. (num_leaves=31).\n",
      "[LightGBM] [Info] Number of positive: 16484, number of negative: 13148\n",
      "[LightGBM] [Info] Auto-choosing col-wise multi-threading, the overhead of testing was 0.010055 seconds.\n",
      "You can set `force_col_wise=true` to remove the overhead.\n",
      "[LightGBM] [Info] Total Bins 3059\n",
      "[LightGBM] [Info] Number of data points in the train set: 29632, number of used features: 14\n",
      "[LightGBM] [Info] [binary:BoostFromScore]: pavg=0.556290 -> initscore=0.226121\n",
      "[LightGBM] [Info] Start training from score 0.226121\n",
      "[LightGBM] [Warning] Accuracy may be bad since you didn't explicitly set num_leaves OR 2^max_depth > num_leaves. (num_leaves=31).\n",
      "[LightGBM] [Warning] Accuracy may be bad since you didn't explicitly set num_leaves OR 2^max_depth > num_leaves. (num_leaves=31).\n",
      "[LightGBM] [Warning] Accuracy may be bad since you didn't explicitly set num_leaves OR 2^max_depth > num_leaves. (num_leaves=31).\n",
      "[LightGBM] [Info] Number of positive: 16483, number of negative: 13149\n",
      "[LightGBM] [Info] Auto-choosing col-wise multi-threading, the overhead of testing was 0.010567 seconds.\n",
      "You can set `force_col_wise=true` to remove the overhead.\n",
      "[LightGBM] [Info] Total Bins 3037\n",
      "[LightGBM] [Info] Number of data points in the train set: 29632, number of used features: 14\n",
      "[LightGBM] [Info] [binary:BoostFromScore]: pavg=0.556257 -> initscore=0.225984\n",
      "[LightGBM] [Info] Start training from score 0.225984\n",
      "[LightGBM] [Warning] Accuracy may be bad since you didn't explicitly set num_leaves OR 2^max_depth > num_leaves. (num_leaves=31).\n",
      "[LightGBM] [Warning] Accuracy may be bad since you didn't explicitly set num_leaves OR 2^max_depth > num_leaves. (num_leaves=31).\n",
      "[LightGBM] [Warning] Accuracy may be bad since you didn't explicitly set num_leaves OR 2^max_depth > num_leaves. (num_leaves=31).\n",
      "[LightGBM] [Info] Number of positive: 16483, number of negative: 13149\n",
      "[LightGBM] [Info] Auto-choosing col-wise multi-threading, the overhead of testing was 0.010302 seconds.\n",
      "You can set `force_col_wise=true` to remove the overhead.\n",
      "[LightGBM] [Info] Total Bins 3042\n",
      "[LightGBM] [Info] Number of data points in the train set: 29632, number of used features: 14\n",
      "[LightGBM] [Info] [binary:BoostFromScore]: pavg=0.556257 -> initscore=0.225984\n",
      "[LightGBM] [Info] Start training from score 0.225984\n",
      "[LightGBM] [Warning] Accuracy may be bad since you didn't explicitly set num_leaves OR 2^max_depth > num_leaves. (num_leaves=31).\n",
      "[LightGBM] [Warning] Accuracy may be bad since you didn't explicitly set num_leaves OR 2^max_depth > num_leaves. (num_leaves=31).\n",
      "[LightGBM] [Warning] Accuracy may be bad since you didn't explicitly set num_leaves OR 2^max_depth > num_leaves. (num_leaves=31).\n",
      "[LightGBM] [Info] Number of positive: 16484, number of negative: 13148\n",
      "[LightGBM] [Info] Auto-choosing col-wise multi-threading, the overhead of testing was 0.010237 seconds.\n",
      "You can set `force_col_wise=true` to remove the overhead.\n",
      "[LightGBM] [Info] Total Bins 3059\n",
      "[LightGBM] [Info] Number of data points in the train set: 29632, number of used features: 14\n",
      "[LightGBM] [Info] [binary:BoostFromScore]: pavg=0.556290 -> initscore=0.226121\n",
      "[LightGBM] [Info] Start training from score 0.226121\n",
      "[LightGBM] [Warning] Accuracy may be bad since you didn't explicitly set num_leaves OR 2^max_depth > num_leaves. (num_leaves=31).\n",
      "[LightGBM] [Warning] Accuracy may be bad since you didn't explicitly set num_leaves OR 2^max_depth > num_leaves. (num_leaves=31).\n",
      "[LightGBM] [Warning] Accuracy may be bad since you didn't explicitly set num_leaves OR 2^max_depth > num_leaves. (num_leaves=31).\n",
      "[LightGBM] [Info] Number of positive: 16483, number of negative: 13149\n",
      "[LightGBM] [Info] Auto-choosing col-wise multi-threading, the overhead of testing was 0.010178 seconds.\n",
      "You can set `force_col_wise=true` to remove the overhead.\n",
      "[LightGBM] [Info] Total Bins 3037\n",
      "[LightGBM] [Info] Number of data points in the train set: 29632, number of used features: 14\n",
      "[LightGBM] [Info] [binary:BoostFromScore]: pavg=0.556257 -> initscore=0.225984\n",
      "[LightGBM] [Info] Start training from score 0.225984\n",
      "[LightGBM] [Warning] Accuracy may be bad since you didn't explicitly set num_leaves OR 2^max_depth > num_leaves. (num_leaves=31).\n",
      "[LightGBM] [Warning] Accuracy may be bad since you didn't explicitly set num_leaves OR 2^max_depth > num_leaves. (num_leaves=31).\n",
      "[LightGBM] [Warning] Accuracy may be bad since you didn't explicitly set num_leaves OR 2^max_depth > num_leaves. (num_leaves=31).\n",
      "[LightGBM] [Info] Number of positive: 16483, number of negative: 13149\n",
      "[LightGBM] [Info] Auto-choosing col-wise multi-threading, the overhead of testing was 0.010136 seconds.\n",
      "You can set `force_col_wise=true` to remove the overhead.\n",
      "[LightGBM] [Info] Total Bins 3042\n",
      "[LightGBM] [Info] Number of data points in the train set: 29632, number of used features: 14\n",
      "[LightGBM] [Info] [binary:BoostFromScore]: pavg=0.556257 -> initscore=0.225984\n",
      "[LightGBM] [Info] Start training from score 0.225984\n",
      "[LightGBM] [Warning] Accuracy may be bad since you didn't explicitly set num_leaves OR 2^max_depth > num_leaves. (num_leaves=31).\n",
      "[LightGBM] [Warning] Accuracy may be bad since you didn't explicitly set num_leaves OR 2^max_depth > num_leaves. (num_leaves=31).\n",
      "[LightGBM] [Warning] Accuracy may be bad since you didn't explicitly set num_leaves OR 2^max_depth > num_leaves. (num_leaves=31).\n",
      "[LightGBM] [Info] Number of positive: 16484, number of negative: 13148\n",
      "[LightGBM] [Info] Auto-choosing col-wise multi-threading, the overhead of testing was 0.010126 seconds.\n",
      "You can set `force_col_wise=true` to remove the overhead.\n",
      "[LightGBM] [Info] Total Bins 3059\n",
      "[LightGBM] [Info] Number of data points in the train set: 29632, number of used features: 14\n",
      "[LightGBM] [Info] [binary:BoostFromScore]: pavg=0.556290 -> initscore=0.226121\n",
      "[LightGBM] [Info] Start training from score 0.226121\n",
      "[LightGBM] [Warning] Accuracy may be bad since you didn't explicitly set num_leaves OR 2^max_depth > num_leaves. (num_leaves=31).\n",
      "[LightGBM] [Warning] Accuracy may be bad since you didn't explicitly set num_leaves OR 2^max_depth > num_leaves. (num_leaves=31).\n",
      "[LightGBM] [Warning] Accuracy may be bad since you didn't explicitly set num_leaves OR 2^max_depth > num_leaves. (num_leaves=31).\n",
      "[LightGBM] [Info] Number of positive: 16483, number of negative: 13149\n",
      "[LightGBM] [Info] Auto-choosing col-wise multi-threading, the overhead of testing was 0.010357 seconds.\n",
      "You can set `force_col_wise=true` to remove the overhead.\n",
      "[LightGBM] [Info] Total Bins 3037\n",
      "[LightGBM] [Info] Number of data points in the train set: 29632, number of used features: 14\n",
      "[LightGBM] [Info] [binary:BoostFromScore]: pavg=0.556257 -> initscore=0.225984\n",
      "[LightGBM] [Info] Start training from score 0.225984\n",
      "[LightGBM] [Warning] Accuracy may be bad since you didn't explicitly set num_leaves OR 2^max_depth > num_leaves. (num_leaves=31).\n",
      "[LightGBM] [Warning] Accuracy may be bad since you didn't explicitly set num_leaves OR 2^max_depth > num_leaves. (num_leaves=31).\n",
      "[LightGBM] [Warning] Accuracy may be bad since you didn't explicitly set num_leaves OR 2^max_depth > num_leaves. (num_leaves=31).\n",
      "[LightGBM] [Info] Number of positive: 16483, number of negative: 13149\n",
      "[LightGBM] [Info] Auto-choosing col-wise multi-threading, the overhead of testing was 0.010404 seconds.\n",
      "You can set `force_col_wise=true` to remove the overhead.\n",
      "[LightGBM] [Info] Total Bins 3042\n",
      "[LightGBM] [Info] Number of data points in the train set: 29632, number of used features: 14\n",
      "[LightGBM] [Info] [binary:BoostFromScore]: pavg=0.556257 -> initscore=0.225984\n",
      "[LightGBM] [Info] Start training from score 0.225984\n",
      "[LightGBM] [Warning] Accuracy may be bad since you didn't explicitly set num_leaves OR 2^max_depth > num_leaves. (num_leaves=31).\n",
      "[LightGBM] [Warning] Accuracy may be bad since you didn't explicitly set num_leaves OR 2^max_depth > num_leaves. (num_leaves=31).\n",
      "[LightGBM] [Warning] Accuracy may be bad since you didn't explicitly set num_leaves OR 2^max_depth > num_leaves. (num_leaves=31).\n",
      "[LightGBM] [Info] Number of positive: 16484, number of negative: 13148\n",
      "[LightGBM] [Info] Auto-choosing col-wise multi-threading, the overhead of testing was 0.010574 seconds.\n",
      "You can set `force_col_wise=true` to remove the overhead.\n",
      "[LightGBM] [Info] Total Bins 3059\n",
      "[LightGBM] [Info] Number of data points in the train set: 29632, number of used features: 14\n",
      "[LightGBM] [Info] [binary:BoostFromScore]: pavg=0.556290 -> initscore=0.226121\n",
      "[LightGBM] [Info] Start training from score 0.226121\n",
      "[LightGBM] [Warning] Accuracy may be bad since you didn't explicitly set num_leaves OR 2^max_depth > num_leaves. (num_leaves=31).\n",
      "[LightGBM] [Warning] Accuracy may be bad since you didn't explicitly set num_leaves OR 2^max_depth > num_leaves. (num_leaves=31).\n",
      "[LightGBM] [Warning] Accuracy may be bad since you didn't explicitly set num_leaves OR 2^max_depth > num_leaves. (num_leaves=31).\n",
      "[LightGBM] [Info] Number of positive: 16483, number of negative: 13149\n",
      "[LightGBM] [Info] Auto-choosing col-wise multi-threading, the overhead of testing was 0.010171 seconds.\n",
      "You can set `force_col_wise=true` to remove the overhead.\n",
      "[LightGBM] [Info] Total Bins 3037\n",
      "[LightGBM] [Info] Number of data points in the train set: 29632, number of used features: 14\n",
      "[LightGBM] [Info] [binary:BoostFromScore]: pavg=0.556257 -> initscore=0.225984\n",
      "[LightGBM] [Info] Start training from score 0.225984\n",
      "[LightGBM] [Warning] Accuracy may be bad since you didn't explicitly set num_leaves OR 2^max_depth > num_leaves. (num_leaves=31).\n",
      "[LightGBM] [Warning] Accuracy may be bad since you didn't explicitly set num_leaves OR 2^max_depth > num_leaves. (num_leaves=31).\n",
      "[LightGBM] [Warning] Accuracy may be bad since you didn't explicitly set num_leaves OR 2^max_depth > num_leaves. (num_leaves=31).\n",
      "[LightGBM] [Info] Number of positive: 16483, number of negative: 13149\n",
      "[LightGBM] [Info] Auto-choosing col-wise multi-threading, the overhead of testing was 0.010232 seconds.\n",
      "You can set `force_col_wise=true` to remove the overhead.\n",
      "[LightGBM] [Info] Total Bins 3042\n",
      "[LightGBM] [Info] Number of data points in the train set: 29632, number of used features: 14\n",
      "[LightGBM] [Info] [binary:BoostFromScore]: pavg=0.556257 -> initscore=0.225984\n",
      "[LightGBM] [Info] Start training from score 0.225984\n",
      "[LightGBM] [Warning] Accuracy may be bad since you didn't explicitly set num_leaves OR 2^max_depth > num_leaves. (num_leaves=31).\n",
      "[LightGBM] [Warning] Accuracy may be bad since you didn't explicitly set num_leaves OR 2^max_depth > num_leaves. (num_leaves=31).\n",
      "[LightGBM] [Warning] Accuracy may be bad since you didn't explicitly set num_leaves OR 2^max_depth > num_leaves. (num_leaves=31).\n",
      "[LightGBM] [Info] Number of positive: 16484, number of negative: 13148\n",
      "[LightGBM] [Info] Auto-choosing col-wise multi-threading, the overhead of testing was 0.010154 seconds.\n",
      "You can set `force_col_wise=true` to remove the overhead.\n",
      "[LightGBM] [Info] Total Bins 3059\n",
      "[LightGBM] [Info] Number of data points in the train set: 29632, number of used features: 14\n",
      "[LightGBM] [Info] [binary:BoostFromScore]: pavg=0.556290 -> initscore=0.226121\n",
      "[LightGBM] [Info] Start training from score 0.226121\n",
      "[LightGBM] [Warning] Accuracy may be bad since you didn't explicitly set num_leaves OR 2^max_depth > num_leaves. (num_leaves=31).\n",
      "[LightGBM] [Warning] Accuracy may be bad since you didn't explicitly set num_leaves OR 2^max_depth > num_leaves. (num_leaves=31).\n",
      "[LightGBM] [Warning] Accuracy may be bad since you didn't explicitly set num_leaves OR 2^max_depth > num_leaves. (num_leaves=31).\n",
      "[LightGBM] [Info] Number of positive: 16483, number of negative: 13149\n",
      "[LightGBM] [Info] Auto-choosing col-wise multi-threading, the overhead of testing was 0.010259 seconds.\n",
      "You can set `force_col_wise=true` to remove the overhead.\n",
      "[LightGBM] [Info] Total Bins 3037\n",
      "[LightGBM] [Info] Number of data points in the train set: 29632, number of used features: 14\n",
      "[LightGBM] [Info] [binary:BoostFromScore]: pavg=0.556257 -> initscore=0.225984\n",
      "[LightGBM] [Info] Start training from score 0.225984\n",
      "[LightGBM] [Warning] Accuracy may be bad since you didn't explicitly set num_leaves OR 2^max_depth > num_leaves. (num_leaves=31).\n",
      "[LightGBM] [Warning] Accuracy may be bad since you didn't explicitly set num_leaves OR 2^max_depth > num_leaves. (num_leaves=31).\n",
      "[LightGBM] [Warning] Accuracy may be bad since you didn't explicitly set num_leaves OR 2^max_depth > num_leaves. (num_leaves=31).\n",
      "[LightGBM] [Info] Number of positive: 16483, number of negative: 13149\n",
      "[LightGBM] [Info] Auto-choosing col-wise multi-threading, the overhead of testing was 0.010497 seconds.\n",
      "You can set `force_col_wise=true` to remove the overhead.\n",
      "[LightGBM] [Info] Total Bins 3042\n",
      "[LightGBM] [Info] Number of data points in the train set: 29632, number of used features: 14\n",
      "[LightGBM] [Info] [binary:BoostFromScore]: pavg=0.556257 -> initscore=0.225984\n",
      "[LightGBM] [Info] Start training from score 0.225984\n",
      "[LightGBM] [Warning] Accuracy may be bad since you didn't explicitly set num_leaves OR 2^max_depth > num_leaves. (num_leaves=31).\n",
      "[LightGBM] [Warning] Accuracy may be bad since you didn't explicitly set num_leaves OR 2^max_depth > num_leaves. (num_leaves=31).\n",
      "[LightGBM] [Warning] Accuracy may be bad since you didn't explicitly set num_leaves OR 2^max_depth > num_leaves. (num_leaves=31).\n",
      "[LightGBM] [Info] Number of positive: 16484, number of negative: 13148\n",
      "[LightGBM] [Info] Auto-choosing col-wise multi-threading, the overhead of testing was 0.010448 seconds.\n",
      "You can set `force_col_wise=true` to remove the overhead.\n",
      "[LightGBM] [Info] Total Bins 3059\n",
      "[LightGBM] [Info] Number of data points in the train set: 29632, number of used features: 14\n",
      "[LightGBM] [Info] [binary:BoostFromScore]: pavg=0.556290 -> initscore=0.226121\n",
      "[LightGBM] [Info] Start training from score 0.226121\n",
      "[LightGBM] [Warning] Accuracy may be bad since you didn't explicitly set num_leaves OR 2^max_depth > num_leaves. (num_leaves=31).\n",
      "[LightGBM] [Warning] Accuracy may be bad since you didn't explicitly set num_leaves OR 2^max_depth > num_leaves. (num_leaves=31).\n",
      "[LightGBM] [Warning] Accuracy may be bad since you didn't explicitly set num_leaves OR 2^max_depth > num_leaves. (num_leaves=31).\n",
      "[LightGBM] [Info] Number of positive: 16483, number of negative: 13149\n",
      "[LightGBM] [Info] Auto-choosing col-wise multi-threading, the overhead of testing was 0.010020 seconds.\n",
      "You can set `force_col_wise=true` to remove the overhead.\n",
      "[LightGBM] [Info] Total Bins 3037\n",
      "[LightGBM] [Info] Number of data points in the train set: 29632, number of used features: 14\n",
      "[LightGBM] [Info] [binary:BoostFromScore]: pavg=0.556257 -> initscore=0.225984\n",
      "[LightGBM] [Info] Start training from score 0.225984\n",
      "[LightGBM] [Warning] Accuracy may be bad since you didn't explicitly set num_leaves OR 2^max_depth > num_leaves. (num_leaves=31).\n",
      "[LightGBM] [Warning] Accuracy may be bad since you didn't explicitly set num_leaves OR 2^max_depth > num_leaves. (num_leaves=31).\n",
      "[LightGBM] [Warning] Accuracy may be bad since you didn't explicitly set num_leaves OR 2^max_depth > num_leaves. (num_leaves=31).\n",
      "[LightGBM] [Info] Number of positive: 16483, number of negative: 13149\n",
      "[LightGBM] [Info] Auto-choosing col-wise multi-threading, the overhead of testing was 0.010319 seconds.\n",
      "You can set `force_col_wise=true` to remove the overhead.\n",
      "[LightGBM] [Info] Total Bins 3042\n",
      "[LightGBM] [Info] Number of data points in the train set: 29632, number of used features: 14\n",
      "[LightGBM] [Info] [binary:BoostFromScore]: pavg=0.556257 -> initscore=0.225984\n",
      "[LightGBM] [Info] Start training from score 0.225984\n",
      "[LightGBM] [Warning] Accuracy may be bad since you didn't explicitly set num_leaves OR 2^max_depth > num_leaves. (num_leaves=31).\n",
      "[LightGBM] [Warning] Accuracy may be bad since you didn't explicitly set num_leaves OR 2^max_depth > num_leaves. (num_leaves=31).\n",
      "[LightGBM] [Warning] Accuracy may be bad since you didn't explicitly set num_leaves OR 2^max_depth > num_leaves. (num_leaves=31).\n",
      "[LightGBM] [Info] Number of positive: 24725, number of negative: 19723\n",
      "[LightGBM] [Info] Auto-choosing col-wise multi-threading, the overhead of testing was 0.015536 seconds.\n",
      "You can set `force_col_wise=true` to remove the overhead.\n",
      "[LightGBM] [Info] Total Bins 3240\n",
      "[LightGBM] [Info] Number of data points in the train set: 44448, number of used features: 14\n",
      "[LightGBM] [Info] [binary:BoostFromScore]: pavg=0.556268 -> initscore=0.226029\n",
      "[LightGBM] [Info] Start training from score 0.226029\n",
      "[LightGBM] [Warning] Accuracy may be bad since you didn't explicitly set num_leaves OR 2^max_depth > num_leaves. (num_leaves=31).\n",
      "LightGBM F1 Score: 0.9662800504372184\n"
     ]
    }
   ],
   "source": [
    "#Define hyperparameter distributions for LightGBM\n",
    "param_dist_lgb = {\n",
    "    'n_estimators': sp_randint(100, 200),\n",
    "    'max_depth': sp_randint(5, 15),\n",
    "    'learning_rate': sp_uniform(0.01, 0.1)\n",
    "}\n",
    "\n",
    "# Initialize LightGBM model\n",
    "lgb_model = lgb.LGBMClassifier(random_state=42)\n",
    "\n",
    "# Hyperparameter tuning for LightGBM\n",
    "lgb_search = RandomizedSearchCV(lgb_model, param_dist_lgb, n_iter=20, cv=StratifiedKFold(3), scoring='f1_macro', n_jobs=-1, random_state=42)\n",
    "lgb_search.fit(X_train_selected, y_train)\n",
    "\n",
    "# Evaluate LightGBM model\n",
    "lgb_best_model = lgb_search.best_estimator_\n",
    "lgb_preds = lgb_best_model.predict(X_valid_selected)\n",
    "lgb_f1 = f1_score(y_valid, lgb_preds, average='macro')\n",
    "print(f\"LightGBM F1 Score: {lgb_f1}\")"
   ]
  },
  {
   "cell_type": "markdown",
   "id": "217f1f73",
   "metadata": {
    "papermill": {
     "duration": 0.025834,
     "end_time": "2024-11-03T07:23:44.069857",
     "exception": false,
     "start_time": "2024-11-03T07:23:44.044023",
     "status": "completed"
    },
    "tags": []
   },
   "source": [
    "## **Model Selection**"
   ]
  },
  {
   "cell_type": "code",
   "execution_count": 17,
   "id": "3e723cb4",
   "metadata": {
    "execution": {
     "iopub.execute_input": "2024-11-03T07:23:44.122768Z",
     "iopub.status.busy": "2024-11-03T07:23:44.122293Z",
     "iopub.status.idle": "2024-11-03T07:23:44.131455Z",
     "shell.execute_reply": "2024-11-03T07:23:44.130133Z"
    },
    "papermill": {
     "duration": 0.039264,
     "end_time": "2024-11-03T07:23:44.134201",
     "exception": false,
     "start_time": "2024-11-03T07:23:44.094937",
     "status": "completed"
    },
    "tags": []
   },
   "outputs": [
    {
     "name": "stdout",
     "output_type": "stream",
     "text": [
      "\n",
      "Best model: LightGBM with F1 Score: 0.9662800504372184\n"
     ]
    }
   ],
   "source": [
    "best_model_name = None\n",
    "best_f1_score = 0\n",
    "final_best_model = None\n",
    "\n",
    "for model, f1 in zip(['Random Forest', 'Logistic Regression', 'LightGBM'], [rf_f1, log_reg_f1, lgb_f1]):\n",
    "    if f1 > best_f1_score:\n",
    "        best_f1_score = f1\n",
    "        best_model_name = model\n",
    "        if model == 'Random Forest':\n",
    "            final_best_model = rf_best_model\n",
    "        elif model == 'Logistic Regression':\n",
    "            final_best_model = log_reg_best_model\n",
    "        elif model == 'LightGBM':\n",
    "            final_best_model = lgb_best_model\n",
    "\n",
    "print(f\"\\nBest model: {best_model_name} with F1 Score: {best_f1_score}\")"
   ]
  },
  {
   "cell_type": "markdown",
   "id": "525ac964",
   "metadata": {
    "papermill": {
     "duration": 0.024895,
     "end_time": "2024-11-03T07:23:44.184636",
     "exception": false,
     "start_time": "2024-11-03T07:23:44.159741",
     "status": "completed"
    },
    "tags": []
   },
   "source": [
    "## **Submission**"
   ]
  },
  {
   "cell_type": "code",
   "execution_count": 18,
   "id": "19b5604a",
   "metadata": {
    "execution": {
     "iopub.execute_input": "2024-11-03T07:23:44.237640Z",
     "iopub.status.busy": "2024-11-03T07:23:44.237162Z",
     "iopub.status.idle": "2024-11-03T07:23:44.387479Z",
     "shell.execute_reply": "2024-11-03T07:23:44.386238Z"
    },
    "papermill": {
     "duration": 0.180754,
     "end_time": "2024-11-03T07:23:44.390400",
     "exception": false,
     "start_time": "2024-11-03T07:23:44.209646",
     "status": "completed"
    },
    "tags": []
   },
   "outputs": [
    {
     "name": "stdout",
     "output_type": "stream",
     "text": [
      "[LightGBM] [Warning] Accuracy may be bad since you didn't explicitly set num_leaves OR 2^max_depth > num_leaves. (num_leaves=31).\n"
     ]
    }
   ],
   "source": [
    "# Predict on the test set with the best model\n",
    "test_predictions = final_best_model.predict(X_test_selected)\n",
    "test_predictions_labels = ['yes' if pred == 1 else 'no' for pred in test_predictions]\n",
    "\n",
    "# Create submission file\n",
    "submission_df['target'] = test_predictions_labels\n",
    "submission_df.to_csv('submission.csv', index=False)"
   ]
  }
 ],
 "metadata": {
  "kaggle": {
   "accelerator": "none",
   "dataSources": [
    {
     "databundleVersionId": 9578279,
     "sourceId": 85062,
     "sourceType": "competition"
    }
   ],
   "dockerImageVersionId": 30761,
   "isGpuEnabled": false,
   "isInternetEnabled": true,
   "language": "python",
   "sourceType": "notebook"
  },
  "kernelspec": {
   "display_name": "Python 3",
   "language": "python",
   "name": "python3"
  },
  "language_info": {
   "codemirror_mode": {
    "name": "ipython",
    "version": 3
   },
   "file_extension": ".py",
   "mimetype": "text/x-python",
   "name": "python",
   "nbconvert_exporter": "python",
   "pygments_lexer": "ipython3",
   "version": "3.10.14"
  },
  "papermill": {
   "default_parameters": {},
   "duration": 841.609571,
   "end_time": "2024-11-03T07:23:45.342346",
   "environment_variables": {},
   "exception": null,
   "input_path": "__notebook__.ipynb",
   "output_path": "__notebook__.ipynb",
   "parameters": {},
   "start_time": "2024-11-03T07:09:43.732775",
   "version": "2.6.0"
  }
 },
 "nbformat": 4,
 "nbformat_minor": 5
}
